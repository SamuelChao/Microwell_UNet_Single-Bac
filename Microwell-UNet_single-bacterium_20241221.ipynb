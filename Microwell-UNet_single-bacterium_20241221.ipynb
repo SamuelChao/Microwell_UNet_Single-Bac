{
 "cells": [
  {
   "cell_type": "markdown",
   "metadata": {
    "id": "YYsylhjZuXkL"
   },
   "source": [
    "# UNet++ & Unet for microwell-DL"
   ]
  },
  {
   "cell_type": "markdown",
   "metadata": {
    "id": "rFQkgbjWudM5"
   },
   "source": [
    "## Import Libraries"
   ]
  },
  {
   "cell_type": "code",
   "execution_count": null,
   "metadata": {
    "id": "BPOqQGrFea6k"
   },
   "outputs": [],
   "source": [
    "import pandas as pd\n",
    "import numpy as np\n",
    "import os\n",
    "import random\n",
    "import tensorflow as tf\n",
    "import cv2\n",
    "from tqdm import tqdm\n",
    "from time import time\n",
    "import datetime\n",
    "from tensorflow import keras\n",
    "from tensorflow.keras import layers\n",
    "from tensorflow.keras.layers import Conv2D, MaxPooling2D, UpSampling2D, Concatenate\n",
    "from tensorflow.keras.layers import Input, Add, Conv2DTranspose\n",
    "from tensorflow.keras.models import Sequential, Model\n",
    "from tensorflow.keras.applications import VGG16\n",
    "from tensorflow.keras.optimizers import SGD, Adam\n",
    "from tensorflow.keras.losses import SparseCategoricalCrossentropy, MeanSquaredError, BinaryCrossentropy\n",
    "from tensorflow.keras.utils import plot_model\n",
    "from tensorflow.keras import callbacks\n",
    "\n",
    "from keras import callbacks\n",
    "from keras.callbacks import Callback\n",
    "from keras.callbacks import ModelCheckpoint\n",
    "\n",
    "\n",
    "from  matplotlib import pyplot as plt\n",
    "import matplotlib.image as mpimg\n",
    "%matplotlib inline\n",
    "\n",
    "from IPython.display import clear_output\n",
    "from IPython.display import HTML\n",
    "from base64 import b64encode\n",
    "\n",
    "from sklearn.metrics import confusion_matrix, ConfusionMatrixDisplay"
   ]
  },
  {
   "cell_type": "code",
   "execution_count": null,
   "metadata": {
    "colab": {
     "base_uri": "https://localhost:8080/"
    },
    "executionInfo": {
     "elapsed": 2557,
     "status": "ok",
     "timestamp": 1716455845630,
     "user": {
      "displayName": "趙伯宣",
      "userId": "09648794267176348713"
     },
     "user_tz": -480
    },
    "id": "EcrweOHyZYjB",
    "outputId": "db2df9cb-4d5e-428c-a0e6-9823cd8df57e"
   },
   "outputs": [],
   "source": [
    "from google.colab import drive\n",
    "drive.mount('/content/drive')\n",
    "\n",
    "# Set yout own directory\n",
    "os.chdir('/content/drive/MyDrive/*********/')"
   ]
  },
  {
   "cell_type": "code",
   "execution_count": null,
   "metadata": {
    "id": "dkFRLEXofpN3"
   },
   "outputs": [],
   "source": [
    "# Load directories\n",
    "train_data_dir = \"./Training dataset/Training_source/\""
   ]
  },
  {
   "cell_type": "markdown",
   "metadata": {
    "id": "NfnDgfJharDG"
   },
   "source": [
    "## Train test set seperation"
   ]
  },
  {
   "cell_type": "code",
   "execution_count": null,
   "metadata": {
    "colab": {
     "base_uri": "https://localhost:8080/",
     "height": 211
    },
    "executionInfo": {
     "elapsed": 3,
     "status": "error",
     "timestamp": 1716455847715,
     "user": {
      "displayName": "趙伯宣",
      "userId": "09648794267176348713"
     },
     "user_tz": -480
    },
    "id": "o6pkuHWlqwwL",
    "outputId": "e0f80ec3-3891-4a2b-b1da-b0d3b94919bc"
   },
   "outputs": [],
   "source": [
    "# Number of training examples\n",
    "\n",
    "TRAINSET_SIZE = int(round(len(os.listdir(train_data_dir)) * 0.7))\n",
    "print(f\"Number of Training Examples: {TRAINSET_SIZE}\")\n",
    "\n",
    "VALIDSET_SIZE = int(len(os.listdir(train_data_dir)) * 0.1)\n",
    "print(f\"Number of Validation Examples: {VALIDSET_SIZE}\")\n",
    "\n",
    "TESTSET_SIZE = int(len(os.listdir(train_data_dir)) - TRAINSET_SIZE - VALIDSET_SIZE)\n",
    "print(f\"Number of Testing Examples: {TESTSET_SIZE}\")"
   ]
  },
  {
   "cell_type": "code",
   "execution_count": null,
   "metadata": {
    "id": "we9mTuqmq6g4"
   },
   "outputs": [],
   "source": [
    "# Initialize Constants\n",
    "IMG_SIZE = 128\n",
    "N_CHANNELS = 3\n",
    "N_CLASSES = 1\n",
    "SEED = 123"
   ]
  },
  {
   "cell_type": "code",
   "execution_count": null,
   "metadata": {
    "id": "p9K08avVrEWT"
   },
   "outputs": [],
   "source": [
    "\n",
    "# Function to load image and return a dictionary\n",
    "def parse_image(img_path: str) -> dict:\n",
    "    image = tf.io.read_file(img_path)\n",
    "    image = tf.image.decode_png(image, channels=3)\n",
    "\n",
    "\n",
    "    mask_path = tf.strings.regex_replace(img_path,\"Training_source\", \"Training_target\")\n",
    "    mask_path = tf.strings.regex_replace(mask_path, \"well\", \"mask\")\n",
    "    mask = tf.io.read_file(mask_path)\n",
    "    mask = tf.image.decode_png(mask, channels=3)\n",
    "\n",
    "\n",
    "    bac_label = np.array([255, 255, 255])\n",
    "\n",
    "\n",
    "    # Convert to mask to binary mask\n",
    "    bac_label = np.array([255, 255, 255])\n",
    "    mask = tf.experimental.numpy.all(mask == bac_label, axis = 2)\n",
    "    mask = tf.cast(mask, tf.uint8)\n",
    "    mask = tf.expand_dims(mask, axis=-1)\n",
    "\n",
    "    return {'image': image, 'segmentation_mask': mask}\n",
    "\n",
    "\n",
    "\n"
   ]
  },
  {
   "cell_type": "markdown",
   "metadata": {
    "id": "X2DI0VJHfuYM"
   },
   "source": [
    "# Generate dataset variables"
   ]
  },
  {
   "cell_type": "code",
   "execution_count": null,
   "metadata": {
    "id": "I2OgW3I_rIyu"
   },
   "outputs": [],
   "source": [
    "BATCH_SIZE = 15\n",
    "BUFFER_SIZE = 1000\n",
    "\n",
    "### Generate dataset variables\n",
    "all_dataset = tf.data.Dataset.list_files(train_data_dir + \"*.png\",  shuffle = False)\n",
    "all_dataset = all_dataset.shuffle(BUFFER_SIZE, seed=SEED, reshuffle_each_iteration=False)\n",
    "all_dataset = all_dataset.map(parse_image)\n",
    "\n",
    "\n",
    "train_dataset = all_dataset.take(TRAINSET_SIZE + VALIDSET_SIZE)\n",
    "val_dataset = train_dataset.skip(TRAINSET_SIZE)\n",
    "train_dataset = train_dataset.take(TRAINSET_SIZE)\n",
    "test_dataset = all_dataset.skip(TRAINSET_SIZE + VALIDSET_SIZE)"
   ]
  },
  {
   "cell_type": "code",
   "execution_count": null,
   "metadata": {
    "id": "_a5dPx0IuLCW"
   },
   "outputs": [],
   "source": [
    "# Tensorflow function to rescale images to [0, 1]\n",
    "@tf.function\n",
    "def normalize(input_image: tf.Tensor, input_mask: tf.Tensor) -> tuple:\n",
    "    input_image = tf.cast(input_image, tf.float32) / 255.0\n",
    "    return input_image, input_mask\n",
    "\n",
    "# Tensorflow function to apply preprocessing transformations\n",
    "@tf.function\n",
    "def load_image_train(datapoint: dict) -> tuple:\n",
    "    input_image = tf.image.resize(datapoint['image'], (IMG_SIZE, IMG_SIZE))\n",
    "    input_mask = tf.image.resize(datapoint['segmentation_mask'], (IMG_SIZE, IMG_SIZE))\n",
    "    input_mask = tf.math.round(input_mask)\n",
    "\n",
    "    if tf.random.uniform(()) > 0.5:\n",
    "        input_image = tf.image.flip_left_right(input_image)\n",
    "        input_mask = tf.image.flip_left_right(input_mask)\n",
    "\n",
    "    input_image, input_mask = normalize(input_image, input_mask)\n",
    "    return input_image, input_mask\n",
    "\n",
    "# Tensorflow function to preprocess validation images\n",
    "@tf.function\n",
    "def load_image_test(datapoint: dict) -> tuple:\n",
    "    input_image = tf.image.resize(datapoint['image'], (IMG_SIZE, IMG_SIZE))\n",
    "    input_mask = tf.image.resize(datapoint['segmentation_mask'], (IMG_SIZE, IMG_SIZE))\n",
    "    input_mask = tf.math.round(input_mask)\n",
    "    input_image, input_mask = normalize(input_image, input_mask)\n",
    "    return input_image, input_mask"
   ]
  },
  {
   "cell_type": "code",
   "execution_count": null,
   "metadata": {
    "colab": {
     "base_uri": "https://localhost:8080/"
    },
    "executionInfo": {
     "elapsed": 1021,
     "status": "ok",
     "timestamp": 1715619714202,
     "user": {
      "displayName": "趙伯宣",
      "userId": "09648794267176348713"
     },
     "user_tz": -480
    },
    "id": "nVMBPyosutWM",
    "outputId": "6f2587a6-2874-465d-ce57-0d3740550eae"
   },
   "outputs": [],
   "source": [
    "dataset = {\"train\": train_dataset, \"val\": val_dataset, \"test\": test_dataset}\n",
    "\n",
    "# -- Train Dataset --#\n",
    "dataset['train'] = dataset['train'].map(load_image_train, num_parallel_calls=tf.data.AUTOTUNE)\n",
    "dataset['train'] = dataset['train'].shuffle(buffer_size=BUFFER_SIZE, seed=SEED)\n",
    "dataset['train'] = dataset['train'].repeat()\n",
    "dataset['train'] = dataset['train'].batch(BATCH_SIZE)\n",
    "dataset['train'] = dataset['train'].prefetch(buffer_size=tf.data.AUTOTUNE)\n",
    "\n",
    "#-- Validation Dataset --#\n",
    "dataset['val'] = dataset['val'].map(load_image_test)\n",
    "dataset['val'] = dataset['val'].repeat()\n",
    "dataset['val'] = dataset['val'].batch(BATCH_SIZE)\n",
    "dataset['val'] = dataset['val'].prefetch(buffer_size=tf.data.AUTOTUNE)\n",
    "\n",
    "#-- Testing Dataset --#\n",
    "dataset['test'] = dataset['test'].map(load_image_test)\n",
    "dataset['test'] = dataset['test'].batch(BATCH_SIZE)\n",
    "dataset['test'] = dataset['test'].prefetch(buffer_size=tf.data.AUTOTUNE)\n",
    "\n",
    "print(dataset['train'])\n",
    "print(dataset['val'])\n",
    "print(dataset['test'])"
   ]
  },
  {
   "cell_type": "code",
   "execution_count": null,
   "metadata": {
    "id": "vZoAN3FKyhu_"
   },
   "outputs": [],
   "source": [
    "# Function to view the images from the directory\n",
    "def display_sample(display_list):\n",
    "    plt.figure(figsize=(18, 18))\n",
    "\n",
    "    title = ['Input Image', 'True Mask', 'Predicted Mask']\n",
    "\n",
    "    for i in range(len(display_list)):\n",
    "        plt.subplot(1, len(display_list), i+1)\n",
    "        plt.title(title[i])\n",
    "        plt.imshow(tf.keras.preprocessing.image.array_to_img(display_list[i]))\n",
    "        plt.axis('off')\n",
    "\n",
    "    plt.show()"
   ]
  },
  {
   "cell_type": "code",
   "execution_count": null,
   "metadata": {
    "colab": {
     "base_uri": "https://localhost:8080/",
     "height": 693
    },
    "executionInfo": {
     "elapsed": 70344,
     "status": "ok",
     "timestamp": 1715397862999,
     "user": {
      "displayName": "趙伯宣",
      "userId": "09648794267176348713"
     },
     "user_tz": -480
    },
    "id": "YDmAXvK2ZFdl",
    "outputId": "80e38e64-ad51-4f45-fb2a-90e72ef7d6f4"
   },
   "outputs": [],
   "source": [
    "# View the training images from the directory\n",
    "for image, mask in dataset['train'].take(1):\n",
    "    sample_image, sample_mask = image, mask\n",
    "\n",
    "display_sample([sample_image[0], sample_mask[0]])"
   ]
  },
  {
   "cell_type": "markdown",
   "metadata": {
    "id": "le-DhjjgnP90"
   },
   "source": [
    "# Model: UNet++"
   ]
  },
  {
   "cell_type": "markdown",
   "metadata": {
    "id": "Z8M_06q65kUS"
   },
   "source": [
    "## Set Unet++ Result folder"
   ]
  },
  {
   "cell_type": "code",
   "execution_count": null,
   "metadata": {
    "id": "-4dhc8bZ5p8l"
   },
   "outputs": [],
   "source": [
    "unetPP_folder = 'UNetPP_result/'"
   ]
  },
  {
   "cell_type": "markdown",
   "metadata": {
    "id": "7vTk15x3nWhY"
   },
   "source": [
    "## UNet++ Architechture\n"
   ]
  },
  {
   "cell_type": "code",
   "execution_count": null,
   "metadata": {
    "id": "N0t191QhQE_R"
   },
   "outputs": [],
   "source": [
    "def double_conv_block(x, n_filters):\n",
    "   # Conv2D then ReLU activation\n",
    "   x = layers.Conv2D(n_filters, 3, padding = \"same\", activation = \"relu\", kernel_initializer = \"he_normal\")(x)\n",
    "   # Conv2D then ReLU activation\n",
    "   x = layers.Conv2D(n_filters, 3, padding = \"same\", activation = \"relu\", kernel_initializer = \"he_normal\")(x)\n",
    "   return x\n",
    "\n",
    "def downsample_block(x, n_filters):\n",
    "   f = double_conv_block(x, n_filters)\n",
    "   p = layers.MaxPool2D(2)(f)\n",
    "   p = layers.Dropout(0.5)(p)\n",
    "   return f, p\n",
    "\n",
    "\n",
    "def upsample_block_part1(x, n_filters):\n",
    "   # upsample\n",
    "   x = layers.Conv2DTranspose(n_filters, 3, 2, padding=\"same\")(x)\n",
    "   return x\n",
    "\n",
    "def upsample_block_part2(x, n_filters):\n",
    "   # dropout\n",
    "   x = layers.Dropout(0.5)(x)\n",
    "   # Conv2D twice with ReLU activation\n",
    "   x = double_conv_block(x, n_filters)\n",
    "   return x\n",
    "\n",
    "\n",
    "def build_unetPP_model():\n",
    "    # inputs\n",
    "    inputs = layers.Input(shape=(128,128,3))\n",
    "\n",
    "    # encoder: contracting path - downsample\n",
    "    f00, p00 = downsample_block(inputs, 64)\n",
    "    f10, p10 = downsample_block(p00, 128)\n",
    "    f20, p20 = downsample_block(p10, 256)\n",
    "    f30, p30 = downsample_block(p20, 512)\n",
    "    bottleneck = double_conv_block(p30, 1024)\n",
    "\n",
    "    # decoders: expanding path - upsample\n",
    "    u01 = upsample_block_part1 (p00, 64)\n",
    "    u01 = layers.concatenate ([u01, f00])\n",
    "    u01 = upsample_block_part2 (u01, 64)\n",
    "\n",
    "    u11 = upsample_block_part1 (p10, 128)\n",
    "    u11 = layers.concatenate ([u11, f10])\n",
    "    u11 = upsample_block_part2 (u11, 128)\n",
    "\n",
    "    u21 = upsample_block_part1 (p20, 256)\n",
    "    u21 = layers.concatenate ([u21, f20])\n",
    "    u21 = upsample_block_part2 (u21, 256)\n",
    "\n",
    "    u31 = upsample_block_part1 (bottleneck, 512)\n",
    "    u31 = layers.concatenate ([u31, f30])\n",
    "    u31 = upsample_block_part2 (u31, 512)\n",
    "\n",
    "    u02 = upsample_block_part1 (u11, 64)\n",
    "    u02 = layers.concatenate ([u02, f00, u01])\n",
    "    u02 = upsample_block_part2 (u02, 64)\n",
    "\n",
    "    u12 = upsample_block_part1 (u21, 128)\n",
    "    u12 = layers.concatenate ([u12, f10, u11])\n",
    "    u12 = upsample_block_part2 (u12, 128)\n",
    "\n",
    "    u22 = upsample_block_part1 (u31, 256)\n",
    "    u22 = layers.concatenate([u22, f20, u21])\n",
    "    u22 = upsample_block_part2(u22, 256)\n",
    "\n",
    "    u03 = upsample_block_part1 (u12, 64)\n",
    "    u03 = layers.concatenate([u03, f00, u01, u02])\n",
    "    u03 = upsample_block_part2(u03, 64)\n",
    "\n",
    "    u13 = upsample_block_part1 (u22, 128)\n",
    "    u13 = layers.concatenate([u13, f10, u11, u12])\n",
    "    u13 = upsample_block_part2(u13, 128)\n",
    "\n",
    "    u04 = upsample_block_part1 (u13, 64)\n",
    "    u04 = layers.concatenate([u04, f00, u01, u02, u03])\n",
    "    u04 = upsample_block_part2(u04, 64)\n",
    "\n",
    "    # outputs\n",
    "    outputs = layers.Conv2D(1, 1, padding=\"same\", activation = \"sigmoid\")(u04)\n",
    "    # unet model with Keras Functional API\n",
    "    unetPP_model = tf.keras.Model(inputs, outputs, name=\"UNet++\")\n",
    "    return unetPP_model\n",
    "\n",
    "\n",
    "\n"
   ]
  },
  {
   "cell_type": "code",
   "execution_count": null,
   "metadata": {
    "colab": {
     "base_uri": "https://localhost:8080/"
    },
    "executionInfo": {
     "elapsed": 1168,
     "status": "ok",
     "timestamp": 1715620150282,
     "user": {
      "displayName": "趙伯宣",
      "userId": "09648794267176348713"
     },
     "user_tz": -480
    },
    "id": "dys54DmJQLRO",
    "outputId": "afcd6305-a3a9-41e7-ead4-b45dfe3051dd"
   },
   "outputs": [],
   "source": [
    "model = build_unetPP_model()\n",
    "model.summary()"
   ]
  },
  {
   "cell_type": "markdown",
   "metadata": {
    "id": "u2uCNt7hndus"
   },
   "source": [
    "## Model configuration"
   ]
  },
  {
   "cell_type": "code",
   "execution_count": null,
   "metadata": {
    "id": "Pn9ZtC97njaR"
   },
   "outputs": [],
   "source": [
    "# Optimization\n",
    "opt = keras.optimizers.Adam(learning_rate=1e-4, clipvalue=0.5)\n",
    "\n",
    "m_iou = tf.keras.metrics.BinaryIoU(\n",
    "    target_class_ids=[1], threshold=0.5, name=None, dtype=None\n",
    ")\n",
    "\n",
    "model.compile(loss=BinaryCrossentropy(), optimizer=opt,  metrics=[m_iou])"
   ]
  },
  {
   "cell_type": "markdown",
   "metadata": {
    "id": "WbRDQ6d1oKqR"
   },
   "source": [
    "## Training\n",
    "The segmentation model is trained with fixed 15 epoches. Each epoch containts 100 batches and each batch contains 32 samples.\n",
    "\n",
    "The training process here is far from systematic, and is provided for illustration purposes only."
   ]
  },
  {
   "cell_type": "code",
   "execution_count": null,
   "metadata": {
    "colab": {
     "base_uri": "https://localhost:8080/"
    },
    "executionInfo": {
     "elapsed": 4,
     "status": "ok",
     "timestamp": 1715578649197,
     "user": {
      "displayName": "趙伯宣",
      "userId": "09648794267176348713"
     },
     "user_tz": -480
    },
    "id": "Xaww5yy1oMxL",
    "outputId": "d879e7cd-2595-4597-e9ab-3d00ef6ecd5d"
   },
   "outputs": [],
   "source": [
    "# Callbacks and Logs\n",
    "class DisplayCallback(callbacks.Callback):\n",
    "    def on_epoch_end(self, epoch, logs=None):\n",
    "        clear_output(wait=True)\n",
    "        show_predictions()\n",
    "        print ('\\nSample Prediction after epoch {}\\n'.format(epoch+1))\n",
    "\n",
    "logdir = os.path.join(\"logs\", datetime.datetime.now().strftime(\"%Y%m%d-%H%M%S\"))\n",
    "\n",
    "callbacks = [\n",
    "    DisplayCallback(),\n",
    "    callbacks.TensorBoard(logdir, histogram_freq = -1),\n",
    "    callbacks.EarlyStopping(patience = 10, verbose = 1),\n",
    "    callbacks.ModelCheckpoint(unetPP_folder + 'best_UNetPP_model_0513.ckpt',save_weights_only=True, verbose = 1, save_best_only = True)\n",
    "]\n",
    "\n",
    "## Set Epochs **IMPORTANT**\n",
    "EPOCHS = 300\n",
    "\n",
    "## Set Variables\n",
    "STEPS_PER_EPOCH = TRAINSET_SIZE // BATCH_SIZE\n",
    "VALIDATION_STEPS = VALIDSET_SIZE // BATCH_SIZE\n",
    "print(TRAINSET_SIZE)\n",
    "print(VALIDSET_SIZE)\n",
    "print(BATCH_SIZE)\n",
    "print(STEPS_PER_EPOCH)\n",
    "print(VALIDATION_STEPS)\n",
    "\n",
    "\n",
    "\n",
    "class CustomHistory(Callback):\n",
    "    def __init__(self):\n",
    "        self.losses = []\n",
    "        self.mean_io_u_1_values = []\n",
    "        self.val_losses = []\n",
    "        self.val_mean_io_u_1_values = []\n",
    "\n",
    "    def on_epoch_end(self, epoch, logs=None):\n",
    "        self.losses.append(logs.get('loss'))\n",
    "        self.mean_io_u_1_values.append(logs.get('binary_io_u'))\n",
    "        self.val_losses.append(logs.get('val_loss'))\n",
    "        self.val_mean_io_u_1_values.append(logs.get('val_binary_io_u'))\n",
    "\n",
    "\n",
    "custom_history = CustomHistory()\n",
    "\n",
    "\n",
    "\n",
    "checkpoint = ModelCheckpoint(unetPP_folder + 'best_UNetPP_model_0513.ckpt', save_weights_only=True, monitor='val_loss', verbose=1, save_best_only=True, mode='min')\n",
    "\n",
    "callbacks_list = [custom_history, checkpoint]"
   ]
  },
  {
   "cell_type": "code",
   "execution_count": null,
   "metadata": {
    "colab": {
     "base_uri": "https://localhost:8080/"
    },
    "executionInfo": {
     "elapsed": 1700379,
     "status": "ok",
     "timestamp": 1715580349574,
     "user": {
      "displayName": "趙伯宣",
      "userId": "09648794267176348713"
     },
     "user_tz": -480
    },
    "id": "NOn7pFjhoULl",
    "outputId": "e0d73d1c-63b9-404b-a660-5ecaa0ffe2da"
   },
   "outputs": [],
   "source": [
    "initial_time = time()\n",
    "\n",
    "\n",
    "# Model Training\n",
    "model.fit(dataset['train'], epochs=EPOCHS,\n",
    "          steps_per_epoch=STEPS_PER_EPOCH,\n",
    "          validation_data=dataset['val'],\n",
    "          validation_steps=VALIDATION_STEPS,\n",
    "          callbacks=callbacks_list)\n",
    "\n",
    "\n",
    "print('Finished Unet++ Training')\n",
    "print('Training time', time() - initial_time)\n",
    "model.save_weights(unetPP_folder + 'epoch300_model/Epoch300_UNETPP_model.ckpt')"
   ]
  },
  {
   "cell_type": "markdown",
   "metadata": {
    "id": "MNRVquHVqJvA"
   },
   "source": [
    "## validation set  show"
   ]
  },
  {
   "cell_type": "code",
   "execution_count": null,
   "metadata": {
    "colab": {
     "base_uri": "https://localhost:8080/",
     "height": 321
    },
    "executionInfo": {
     "elapsed": 101876,
     "status": "error",
     "timestamp": 1715620278495,
     "user": {
      "displayName": "趙伯宣",
      "userId": "09648794267176348713"
     },
     "user_tz": -480
    },
    "id": "l4j8XzO-ofBd",
    "outputId": "22347419-f178-48ae-e139-0dbfe39ac90b"
   },
   "outputs": [],
   "source": [
    "#### Repeat for safety and reabiility #####################################################\n",
    "# Function to view the images from the directory\n",
    "def display_sample(display_list):\n",
    "    plt.figure(figsize=(18, 18))\n",
    "\n",
    "    title = ['Input Image', 'True Mask', 'Predict Map', 'Predict Mask']\n",
    "\n",
    "    for i in range(len(display_list)):\n",
    "        plt.subplot(1, len(display_list), i+1)\n",
    "        plt.title(title[i])\n",
    "        plt.imshow(tf.keras.preprocessing.image.array_to_img(display_list[i]))\n",
    "        plt.axis('off')\n",
    "\n",
    "    plt.show()\n",
    "\n",
    "# Function to create a mask out of network prediction\n",
    "def create_mask(pred_mask: tf.Tensor) -> tf.Tensor:\n",
    "    # Round to closest\n",
    "    pred_mask = tf.math.round(pred_mask)\n",
    "\n",
    "    # [IMG_SIZE, IMG_SIZE] -> [IMG_SIZE, IMG_SIZE, 1]\n",
    "    pred_mask = tf.expand_dims(pred_mask, axis=-1)\n",
    "    return pred_mask\n",
    "\n",
    "\n",
    "\n",
    "# Function to show predictions\n",
    "def show_validation(dataset=None, num=1):\n",
    "    if dataset:\n",
    "        # Predict and show image from input dataset\n",
    "        for image, mask in dataset.take(num):\n",
    "            pred_mask = model.predict(image)\n",
    "            display_sample([image[0], true_mask, pred_mask, create_mask(pred_mask)])\n",
    "\n",
    "            img = tf.keras.preprocessing.image.array_to_img(image[0])\n",
    "            img.save(unetPP_folder + f'outputs/validate_{num}_well.png')\n",
    "\n",
    "            true_mask_img = tf.keras.preprocessing.image.array_to_img(true_mask)\n",
    "            true_mask_img.save(unetPP_folder + f'outputs/validate_{num}_true_mask.png')\n",
    "\n",
    "            pred_map_img = tf.keras.preprocessing.image.array_to_img(pred_mask)\n",
    "            pred_map_img.save(unetPP_folder + f'outputs/validate_{num}_predict_map.png')\n",
    "\n",
    "            pred_mask_img = tf.keras.preprocessing.image.array_to_img(create_mask(pred_mask))\n",
    "            pred_mask_img.save(unetPP_folder + f'outputs/validate_{num}_predict_mask.png')\n",
    "\n",
    "\n",
    "    else:\n",
    "        # Predict and show the sample image\n",
    "        inference = model.predict(sample_image)\n",
    "        display_sample([sample_image[0], sample_mask[0],\n",
    "                        inference[0]])\n",
    "\n",
    "        img = tf.keras.preprocessing.image.array_to_img(sample_image[0])\n",
    "        img.save(unetPP_folder + f'outputs/validate_{num}_well.png')\n",
    "\n",
    "        true_mask_img = tf.keras.preprocessing.image.array_to_img(sample_mask[0])\n",
    "        true_mask_img.save(unetPP_folder + f'outputs/validate_{num}_true_mask.png')\n",
    "\n",
    "        pred_mask_img = tf.keras.preprocessing.image.array_to_img(inference[0])\n",
    "        pred_mask_img.save(unetPP_folder + f'outputs/validate_{num}_predict_mask.png')\n",
    "\n",
    "\n",
    "## Show validation image, true mask & predict mask\n",
    "show_validation(dataset['test'], 20)"
   ]
  },
  {
   "cell_type": "markdown",
   "metadata": {
    "id": "L0Or7yxHpllr"
   },
   "source": [
    "## From custom_history collect Train_loss & Val_loss"
   ]
  },
  {
   "cell_type": "code",
   "execution_count": null,
   "metadata": {
    "colab": {
     "base_uri": "https://localhost:8080/",
     "height": 644
    },
    "executionInfo": {
     "elapsed": 863,
     "status": "ok",
     "timestamp": 1715580459449,
     "user": {
      "displayName": "趙伯宣",
      "userId": "09648794267176348713"
     },
     "user_tz": -480
    },
    "id": "BIhCzoqQplDG",
    "outputId": "6de290ae-d133-4c85-b64f-dcf66053d6e1"
   },
   "outputs": [],
   "source": [
    "# Training Loss\n",
    "\n",
    "epochs = list(range(1, len(training_loss) + 1))\n",
    "\n",
    "df = pd.DataFrame({\"Epochs\": epochs, \"train_loss\" : training_loss})\n",
    "df.to_csv(unetPP_folder + 'training_loss.csv', index=False)\n",
    "\n",
    "\n",
    "training_loss = custom_history.losses\n",
    "print(training_loss)\n",
    "\n",
    "# generate epochs list\n",
    "epochs = list(range(1, len(training_loss) + 1))\n",
    "\n",
    "# Plot Line Chart\n",
    "plt.figure(figsize=(10, 6))\n",
    "plt.plot(epochs,training_loss, '-', label='training_loss')\n",
    "plt.title('training_loss over epochs')\n",
    "plt.xlabel('Epochs')\n",
    "plt.ylabel('training_loss')\n",
    "plt.legend()\n",
    "plt.tight_layout()\n",
    "plt.show()"
   ]
  },
  {
   "cell_type": "code",
   "execution_count": null,
   "metadata": {
    "colab": {
     "base_uri": "https://localhost:8080/",
     "height": 607
    },
    "executionInfo": {
     "elapsed": 1840,
     "status": "ok",
     "timestamp": 1715580464766,
     "user": {
      "displayName": "趙伯宣",
      "userId": "09648794267176348713"
     },
     "user_tz": -480
    },
    "id": "cjZGVnn1p6UA",
    "outputId": "ee18f05d-da0b-4500-fa22-2992545a55c1"
   },
   "outputs": [],
   "source": [
    "# Validate Loss\n",
    "\n",
    "val_losses = custom_history.val_losses\n",
    "\n",
    "\n",
    "# generate epochs list\n",
    "epochs = list(range(1, len(val_losses) + 1))\n",
    "\n",
    "# save log file\n",
    "df = pd.DataFrame({\"Epochs\": epochs, \"validate_loss\" : val_losses})\n",
    "df.to_csv(unetPP_folder + 'validate_loss.csv', index=False)\n",
    "\n",
    "\n",
    "# Plot Line Chart\n",
    "plt.figure(figsize=(10, 6))\n",
    "plt.plot(epochs,val_losses, '-', label='val_losses')\n",
    "plt.title('val_losses over epochs')\n",
    "plt.xlabel('Epochs')\n",
    "plt.ylabel('val_losses')\n",
    "plt.legend()\n",
    "plt.tight_layout()\n",
    "plt.show()"
   ]
  },
  {
   "cell_type": "markdown",
   "metadata": {
    "id": "6Y-qHEGQIk-e"
   },
   "source": [
    "## 從 custom_history 獲取 train_BIOU & val_BIOU 數據"
   ]
  },
  {
   "cell_type": "code",
   "execution_count": null,
   "metadata": {
    "colab": {
     "base_uri": "https://localhost:8080/",
     "height": 644
    },
    "executionInfo": {
     "elapsed": 1380,
     "status": "ok",
     "timestamp": 1715580469802,
     "user": {
      "displayName": "趙伯宣",
      "userId": "09648794267176348713"
     },
     "user_tz": -480
    },
    "id": "aJcuvyPII1si",
    "outputId": "f29a4e74-c94a-495f-a9b8-44e8686b38a2"
   },
   "outputs": [],
   "source": [
    "# 從 custom_history 獲取 mean_io_u_1_values 數據\n",
    "mean_io_u_1_values = custom_history.mean_io_u_1_values\n",
    "print(mean_io_u_1_values)\n",
    "\n",
    "# 創建 epochs 列表\n",
    "epochs = list(range(1, len(mean_io_u_1_values) + 1))\n",
    "\n",
    "\n",
    "df = pd.DataFrame({\"Epochs\": epochs, \"train_bIOU\" : mean_io_u_1_values})\n",
    "df.to_csv(unetPP_folder + 'training_bIOU.csv', index=False)\n",
    "\n",
    "\n",
    "# 繪製折線圖\n",
    "plt.figure(figsize=(10, 6))\n",
    "plt.plot(epochs, mean_io_u_1_values, '-', label='mean_io_u_values')\n",
    "plt.title('mean_io_u over epochs')\n",
    "plt.xlabel('Epochs')\n",
    "plt.ylabel('mean_io_u')\n",
    "plt.legend()\n",
    "plt.tight_layout()\n",
    "plt.show()"
   ]
  },
  {
   "cell_type": "code",
   "execution_count": null,
   "metadata": {
    "colab": {
     "base_uri": "https://localhost:8080/",
     "height": 644
    },
    "executionInfo": {
     "elapsed": 3,
     "status": "ok",
     "timestamp": 1715580470983,
     "user": {
      "displayName": "趙伯宣",
      "userId": "09648794267176348713"
     },
     "user_tz": -480
    },
    "id": "w6Si5hSwJWl5",
    "outputId": "3009af07-7a45-4832-d1a7-5e4830952ade"
   },
   "outputs": [],
   "source": [
    "# 從 custom_history 獲取 mean_io_u_1_values 數據\n",
    "val_mean_io_u_1_values = custom_history.val_mean_io_u_1_values\n",
    "print(val_mean_io_u_1_values)\n",
    "\n",
    "# 創建 epochs 列表\n",
    "epochs = list(range(1, len(val_mean_io_u_1_values) + 1))\n",
    "\n",
    "\n",
    "df = pd.DataFrame({\"Epochs\": epochs, \"val_bIOU\" : val_mean_io_u_1_values})\n",
    "df.to_csv(unetPP_folder + 'validate_bIOU.csv', index=False)\n",
    "\n",
    "\n",
    "# 繪製折線圖\n",
    "plt.figure(figsize=(10, 6))\n",
    "plt.plot(epochs, val_mean_io_u_1_values, '-', label='val_mean_io_u_values')\n",
    "plt.title('val_mean_io_u_values over epochs')\n",
    "plt.xlabel('Epochs')\n",
    "plt.ylabel('val_mean_io_u_values')\n",
    "plt.legend()\n",
    "plt.tight_layout()\n",
    "plt.show()\n",
    "\n"
   ]
  },
  {
   "cell_type": "markdown",
   "metadata": {
    "id": "D87bgtDR1fUV"
   },
   "source": [
    "## 4to1 plot\n",
    "\n",
    "(0.12, 0.8)"
   ]
  },
  {
   "cell_type": "code",
   "execution_count": null,
   "metadata": {
    "colab": {
     "base_uri": "https://localhost:8080/",
     "height": 1000
    },
    "executionInfo": {
     "elapsed": 2470,
     "status": "ok",
     "timestamp": 1715619009363,
     "user": {
      "displayName": "趙伯宣",
      "userId": "09648794267176348713"
     },
     "user_tz": -480
    },
    "id": "HftOlqCF1iJ_",
    "outputId": "a3d8dfa9-d140-447b-f9c6-0effe41c4c91"
   },
   "outputs": [],
   "source": [
    "unetPP_folder = 'UNetPP_result/'\n",
    "\n",
    "plt.rcParams['font.size'] = 8\n",
    "plt.rcParams['figure.dpi'] = 300\n",
    "\n",
    "\n",
    "df1 = pd.read_csv(unetPP_folder +'training_loss.csv', header=0)\n",
    "df2 = pd.read_csv(unetPP_folder +'validate_loss.csv', header=0)\n",
    "df3 = pd.read_csv(unetPP_folder + 'training_bIOU.csv', header=0)\n",
    "df4 = pd.read_csv(unetPP_folder + 'validate_bIOU.csv', header=0)\n",
    "\n",
    "\n",
    "fig, ax1 = plt.subplots()\n",
    "color = 'tab:red'\n",
    "ax1.set_xlabel('Epochs', fontsize=12)\n",
    "ax1.set_ylabel('Loss', color=color, fontsize=12)\n",
    "ax1.plot(df1[\"Epochs\"], df1[\"train_loss\"], '-', label='Training Loss', color=color)\n",
    "ax1.plot(df2[\"Epochs\"], df2[\"validate_loss\"], '-', alpha = 0.5, label='Validation Loss', color=color)\n",
    "ax1.tick_params(axis='y', labelcolor=color)\n",
    "ax1.set_ylim([-0.01, 0.13])\n",
    "ax1.set_box_aspect(0.75)\n",
    "\n",
    "\n",
    "\n",
    "ax2 = ax1.twinx()  # instantiate a second axes that shares the same x-axis\n",
    "color = 'tab:blue'\n",
    "ax2.set_ylabel('IoU', color=color, fontsize=12)  # we already handled the x-label with ax1\n",
    "ax2.plot(df3[\"Epochs\"], df3[\"train_bIOU\"], '-', label='Training IoU', color=color)\n",
    "ax2.plot(df4[\"Epochs\"], df4[\"val_bIOU\"], '-', alpha = 0.5, label='Validation IoU', color=color)\n",
    "ax2.tick_params(axis='y', labelcolor=color)\n",
    "\n",
    "ax2.set_ylim([-0.1, 0.9])\n",
    "lines, labels = ax1.get_legend_handles_labels()\n",
    "lines2, labels2 = ax2.get_legend_handles_labels()\n",
    "ax2.legend(lines + lines2, labels + labels2, loc=9)\n",
    "\n",
    "\n",
    "plt.show()\n",
    "\n",
    "fig.savefig(unetPP_folder + 'Unet++_4to1.png')\n"
   ]
  },
  {
   "cell_type": "markdown",
   "metadata": {
    "id": "7rWuSOxC2KfO"
   },
   "source": [
    "# UNET++ Testing"
   ]
  },
  {
   "cell_type": "markdown",
   "metadata": {
    "id": "-O9Ai1k12j19"
   },
   "source": [
    "## (Optional) Load pretrained Swin-Unet model weights"
   ]
  },
  {
   "cell_type": "code",
   "execution_count": null,
   "metadata": {
    "colab": {
     "base_uri": "https://localhost:8080/"
    },
    "executionInfo": {
     "elapsed": 6036,
     "status": "ok",
     "timestamp": 1715620169399,
     "user": {
      "displayName": "趙伯宣",
      "userId": "09648794267176348713"
     },
     "user_tz": -480
    },
    "id": "BCJMKCBc2ZoP",
    "outputId": "cbba19b6-0185-468c-9313-9139d049436a"
   },
   "outputs": [],
   "source": [
    "model.load_weights(unetPP_folder + 'epoch300_model/Epoch300_UNETPP_model.ckpt')\n",
    "model.summary()"
   ]
  },
  {
   "cell_type": "markdown",
   "metadata": {
    "id": "eOmD56Hdgzot"
   },
   "source": [
    "## Calculate Time of test-set prediction"
   ]
  },
  {
   "cell_type": "code",
   "execution_count": null,
   "metadata": {
    "colab": {
     "base_uri": "https://localhost:8080/"
    },
    "executionInfo": {
     "elapsed": 2591,
     "status": "ok",
     "timestamp": 1715580675024,
     "user": {
      "displayName": "趙伯宣",
      "userId": "09648794267176348713"
     },
     "user_tz": -480
    },
    "id": "y7LogDWIgzMU",
    "outputId": "35fbee98-2377-434c-89e3-f5cdc8c57013"
   },
   "outputs": [],
   "source": [
    "initial_time = time()\n",
    "\n",
    "for image, mask in dataset['test']:\n",
    "    pred_mask = model.predict(image)\n",
    "\n",
    "print('Finished Unet++ Testing')\n",
    "print('Testing time', time() - initial_time)"
   ]
  },
  {
   "cell_type": "markdown",
   "metadata": {
    "id": "-62cxpJv2ndF"
   },
   "source": [
    "## Function to calculate mask over image"
   ]
  },
  {
   "cell_type": "code",
   "execution_count": null,
   "metadata": {
    "id": "oea1WRNR2pIh"
   },
   "outputs": [],
   "source": [
    "# Function to calculate mask over image\n",
    "def weighted_img(img, initial_img, α=1., β=0.5, γ=0.):\n",
    "    return cv2.addWeighted(initial_img, α, img, β, γ)\n",
    "\n",
    "# Function to process an individual image and it's mask\n",
    "def process_image_mask(image, mask):\n",
    "    # Round to closest\n",
    "    mask = tf.math.round(mask)\n",
    "\n",
    "    # Convert to mask image\n",
    "    zero_image = np.zeros_like(mask)\n",
    "    mask = np.dstack((mask, zero_image, zero_image))\n",
    "    mask = np.asarray(mask, np.float32)\n",
    "\n",
    "    # Convert to image image\n",
    "    image = np.asarray(image, np.float32)\n",
    "\n",
    "    # Get the final image\n",
    "    final_image = weighted_img(mask, image)\n",
    "\n",
    "    return final_image"
   ]
  },
  {
   "cell_type": "markdown",
   "metadata": {
    "id": "KyvprIXM2sqL"
   },
   "source": [
    "# Function to calculate bacteria number inside microwell"
   ]
  },
  {
   "cell_type": "code",
   "execution_count": null,
   "metadata": {
    "id": "yJjXDIMb2sa9"
   },
   "outputs": [],
   "source": [
    "def bacteria_count(mask):\n",
    "    mask_img = tf.keras.preprocessing.image.array_to_img(mask)\n",
    "    img2 = cv2.cvtColor(np.asarray(mask_img), cv2.COLOR_RGB2BGR)\n",
    "    gray = cv2.cvtColor(img2, cv2.COLOR_BGR2GRAY)\n",
    "    cnts = cv2.findContours(gray, cv2.RETR_EXTERNAL, cv2.CHAIN_APPROX_SIMPLE)\n",
    "    cnts = cnts[0] if len(cnts) == 2 else cnts[1]\n",
    "    bacNum = len(cnts)\n",
    "    return bacNum"
   ]
  },
  {
   "cell_type": "markdown",
   "metadata": {
    "id": "01qNolOz233O"
   },
   "source": [
    "# Function to save predictions"
   ]
  },
  {
   "cell_type": "code",
   "execution_count": null,
   "metadata": {
    "id": "Nbh7GdVo241-"
   },
   "outputs": [],
   "source": [
    "# Function to save predictions\n",
    "def save_predictions(dataset, True_Counts, Pred_Counts):\n",
    "    # Predict and save image the from input dataset\n",
    "    index = 0\n",
    "    for batch_image, batch_mask in dataset:\n",
    "        for image, mask in zip(batch_image, batch_mask):\n",
    "            print(f\"Processing image : {index}\")\n",
    "            pred_mask = model.predict(tf.expand_dims(image, axis = 0))\n",
    "            save_sample([image, process_image_mask(image, mask), process_image_mask(image, pred_mask[0])], index)\n",
    "\n",
    "            true_bacNum = bacteria_count(mask)\n",
    "            True_Counts.append(true_bacNum)\n",
    "            print(\"True Bac-Num:    \", true_bacNum)\n",
    "            print(\" \")\n",
    "\n",
    "            pred_mask_round = tf.math.round(pred_mask[0])\n",
    "            pred_bacNum = bacteria_count(pred_mask_round)\n",
    "            Pred_Counts.append(pred_bacNum)\n",
    "            print(\"Predict Bac-Num: \", pred_bacNum)\n",
    "            print(\" \")\n",
    "\n",
    "            img = tf.keras.preprocessing.image.array_to_img(image)\n",
    "            img.save(unetPP_folder + f'outputs/{index}_well.png')\n",
    "            true_mask_img = tf.keras.preprocessing.image.array_to_img(process_image_mask(image, mask))\n",
    "            true_mask_img.save(unetPP_folder + f'outputs/{index}_true.png')\n",
    "            pred_mask_img = tf.keras.preprocessing.image.array_to_img(process_image_mask(image, pred_mask[0]))\n",
    "            pred_mask_img.save(unetPP_folder + f'outputs/{index}_predict.png')\n",
    "\n",
    "            index += 1\n",
    "\n",
    "# Function to save the images as a plot\n",
    "def save_sample(display_list, index):\n",
    "    plt.figure(figsize=(18, 18))\n",
    "\n",
    "    title = ['Input Image', 'True Mask', 'Predicted Mask']\n",
    "\n",
    "    for i in range(len(display_list)):\n",
    "        plt.subplot(1, len(display_list), i+1)\n",
    "        plt.title(title[i])\n",
    "        plt.imshow(tf.keras.preprocessing.image.array_to_img(display_list[i]))\n",
    "        plt.axis('off')\n",
    "\n",
    "    plt.savefig(unetPP_folder + f'outputs/{index}.png')\n",
    "    plt.show()"
   ]
  },
  {
   "cell_type": "markdown",
   "metadata": {
    "id": "w52ZOv1_fww2"
   },
   "source": [
    "## Plot Testing mask & predict mask"
   ]
  },
  {
   "cell_type": "code",
   "execution_count": null,
   "metadata": {
    "colab": {
     "base_uri": "https://localhost:8080/",
     "height": 1000
    },
    "executionInfo": {
     "elapsed": 129611,
     "status": "ok",
     "timestamp": 1715580864300,
     "user": {
      "displayName": "趙伯宣",
      "userId": "09648794267176348713"
     },
     "user_tz": -480
    },
    "id": "JrU6xeCB2-XC",
    "outputId": "cb2c52af-e96b-49be-bd5a-f1a8468f70d0"
   },
   "outputs": [],
   "source": [
    "True_Counts = []\n",
    "Pred_Counts = []\n",
    "\n",
    "save_predictions(dataset['test'], True_Counts, Pred_Counts)"
   ]
  },
  {
   "cell_type": "markdown",
   "metadata": {
    "id": "z4vG7rGb3CgT"
   },
   "source": [
    "### Confusion Matrix & Accuracy"
   ]
  },
  {
   "cell_type": "code",
   "execution_count": null,
   "metadata": {
    "colab": {
     "base_uri": "https://localhost:8080/"
    },
    "executionInfo": {
     "elapsed": 11,
     "status": "ok",
     "timestamp": 1715580864300,
     "user": {
      "displayName": "趙伯宣",
      "userId": "09648794267176348713"
     },
     "user_tz": -480
    },
    "id": "ezS_2vtj3BH1",
    "outputId": "2d3114ce-e5bb-4348-d241-08944bb2f072"
   },
   "outputs": [],
   "source": [
    "print(True_Counts)\n",
    "print(Pred_Counts)\n",
    "\n",
    "num_result = pd.DataFrame({'True_Number': True_Counts, 'Predict_Number': Pred_Counts})\n",
    "num_result.to_csv(unetPP_folder + 'Number_Result.csv', index= False , header = True)"
   ]
  },
  {
   "cell_type": "code",
   "execution_count": null,
   "metadata": {
    "id": "6-LK_GOA3Dsx"
   },
   "outputs": [],
   "source": [
    "def acc_calculation(predict, label):\n",
    "    total = len(Pred_Counts)\n",
    "    correct = 0\n",
    "    for i in range(total):\n",
    "        if (predict[i] == label[i]):\n",
    "            correct += 1\n",
    "\n",
    "\n",
    "    return round(100 * correct / total, 2)"
   ]
  },
  {
   "cell_type": "code",
   "execution_count": null,
   "metadata": {
    "colab": {
     "base_uri": "https://localhost:8080/"
    },
    "executionInfo": {
     "elapsed": 5,
     "status": "ok",
     "timestamp": 1715580864300,
     "user": {
      "displayName": "趙伯宣",
      "userId": "09648794267176348713"
     },
     "user_tz": -480
    },
    "id": "IW0gnUHk3FJW",
    "outputId": "93b34c0f-67e5-4336-a0d8-ad9b1f25bd01"
   },
   "outputs": [],
   "source": [
    "acc = acc_calculation(Pred_Counts, True_Counts)\n",
    "print(acc)\n",
    "\n",
    "num_accuracy = pd.DataFrame({'Number_Accuracy': [acc]})\n",
    "num_accuracy.to_csv(unetPP_folder + 'Number_Accuracy.csv', index= False , header = True)"
   ]
  },
  {
   "cell_type": "code",
   "execution_count": null,
   "metadata": {
    "colab": {
     "base_uri": "https://localhost:8080/"
    },
    "executionInfo": {
     "elapsed": 4,
     "status": "ok",
     "timestamp": 1715580864301,
     "user": {
      "displayName": "趙伯宣",
      "userId": "09648794267176348713"
     },
     "user_tz": -480
    },
    "id": "DiQXoEN73IzZ",
    "outputId": "999551b4-09bc-4775-81d3-c04776bd2840"
   },
   "outputs": [],
   "source": [
    "## Generate Confusion Matrix\n",
    "con = confusion_matrix(True_Counts, Pred_Counts)\n",
    "print(con)\n",
    "cnn_df = pd.DataFrame(con)\n",
    "cnn_df.to_csv(unetPP_folder + 'Number_Conf.csv', index= False , header = False)\n",
    "\n",
    "print(\" \")\n",
    "\n",
    "nor_con = confusion_matrix(True_Counts, Pred_Counts,normalize='true')\n",
    "print(nor_con)\n",
    "\n",
    "\n",
    "nor_con_df = pd.DataFrame(nor_con)\n",
    "nor_con_df.to_csv(unetPP_folder + 'Number_Conf_Nor.csv', index= False , header = False)"
   ]
  },
  {
   "cell_type": "code",
   "execution_count": null,
   "metadata": {
    "colab": {
     "base_uri": "https://localhost:8080/"
    },
    "executionInfo": {
     "elapsed": 1985,
     "status": "ok",
     "timestamp": 1715619741440,
     "user": {
      "displayName": "趙伯宣",
      "userId": "09648794267176348713"
     },
     "user_tz": -480
    },
    "id": "b13nhZbbnrcl",
    "outputId": "f7181ab0-ec29-4ae2-efbd-99069f263747"
   },
   "outputs": [],
   "source": [
    "## [Optional] Load confusion matrix data for plotting\n",
    "unetPP_folder = 'UNetPP_result/'\n",
    "\n",
    "con = np.genfromtxt(unetPP_folder + 'Number_Conf.csv', delimiter=',')\n",
    "print(con)\n",
    "\n",
    "nor_con = np.genfromtxt(unetPP_folder + 'Number_Conf_Nor.csv', delimiter=',')\n",
    "print(nor_con)"
   ]
  },
  {
   "cell_type": "code",
   "execution_count": null,
   "metadata": {
    "colab": {
     "base_uri": "https://localhost:8080/",
     "height": 1000
    },
    "executionInfo": {
     "elapsed": 3137,
     "status": "ok",
     "timestamp": 1715619774656,
     "user": {
      "displayName": "趙伯宣",
      "userId": "09648794267176348713"
     },
     "user_tz": -480
    },
    "id": "9RkS7MXpjMLq",
    "outputId": "a9742603-9d9e-4029-d677-64e4e77ecfb1"
   },
   "outputs": [],
   "source": [
    "plt.rcParams['font.size'] = 8\n",
    "plt.rcParams['figure.dpi'] = 300\n",
    "\n",
    "\n",
    "nor_con = np.around(nor_con, 2)\n",
    "nor_disp = ConfusionMatrixDisplay(confusion_matrix=con)\n",
    "nor_disp.plot(cmap ='gist_yarg', colorbar=False)\n",
    "plt.xlabel('Predicted Number', fontsize=12)\n",
    "plt.ylabel('True Number', fontsize=12)\n",
    "\n",
    "\n",
    "plt.savefig(unetPP_folder + 'Number_Conf.png', dpi=300, transparent=True, bbox_inches='tight')\n",
    "\n",
    "\n"
   ]
  },
  {
   "cell_type": "code",
   "execution_count": null,
   "metadata": {
    "colab": {
     "base_uri": "https://localhost:8080/",
     "height": 1000
    },
    "executionInfo": {
     "elapsed": 2633,
     "status": "ok",
     "timestamp": 1715619784961,
     "user": {
      "displayName": "趙伯宣",
      "userId": "09648794267176348713"
     },
     "user_tz": -480
    },
    "id": "VgpPxjws3KUQ",
    "outputId": "2c5030c6-9fa2-4880-f9e8-e0477fd9ac52"
   },
   "outputs": [],
   "source": [
    "plt.rcParams['font.size'] = 8\n",
    "plt.rcParams['figure.dpi'] = 300\n",
    "\n",
    "\n",
    "nor_con = np.around(nor_con, 2)\n",
    "nor_disp = ConfusionMatrixDisplay(confusion_matrix=nor_con)\n",
    "nor_disp.plot(cmap ='gist_yarg', colorbar=False)\n",
    "plt.xlabel('Predicted Number', fontsize=12)\n",
    "plt.ylabel('True Number', fontsize=12)\n",
    "\n",
    "plt.savefig(unetPP_folder + 'Number_Conf_Nor.png', dpi=300, transparent=True, bbox_inches='tight')\n"
   ]
  },
  {
   "cell_type": "markdown",
   "metadata": {
    "id": "6cK6s0S-3NoO"
   },
   "source": [
    "## Single bacteria analysis"
   ]
  },
  {
   "cell_type": "code",
   "execution_count": null,
   "metadata": {
    "colab": {
     "base_uri": "https://localhost:8080/",
     "height": 211
    },
    "executionInfo": {
     "elapsed": 876,
     "status": "error",
     "timestamp": 1715619792877,
     "user": {
      "displayName": "趙伯宣",
      "userId": "09648794267176348713"
     },
     "user_tz": -480
    },
    "id": "yojJ80DO3Qsy",
    "outputId": "35d9b946-8bc7-41f4-e1e6-82d91da1d0ef"
   },
   "outputs": [],
   "source": [
    "true_single = np.array(True_Counts)\n",
    "true_single[true_single != 1] = 0\n",
    "\n",
    "pred_single = np.array(Pred_Counts)\n",
    "pred_single[pred_single != 1] = 0\n",
    "\n",
    "\n",
    "single_result = pd.DataFrame({'True_Single': true_single, 'Pred_Single': pred_single})\n",
    "single_result.to_csv(unetPP_folder + 'Single_Result.csv', index= False , header = True)\n",
    "\n",
    "\n",
    "\n",
    "acc = acc_calculation(pred_single, true_single)\n",
    "print(acc)\n",
    "\n",
    "single_accuracy = pd.DataFrame({'Single_Accuracy': [acc]})\n",
    "single_accuracy.to_csv(unetPP_folder + 'Single_Accuracy.csv', index= False , header = True)"
   ]
  },
  {
   "cell_type": "code",
   "execution_count": null,
   "metadata": {
    "colab": {
     "base_uri": "https://localhost:8080/"
    },
    "executionInfo": {
     "elapsed": 3,
     "status": "ok",
     "timestamp": 1715580865641,
     "user": {
      "displayName": "趙伯宣",
      "userId": "09648794267176348713"
     },
     "user_tz": -480
    },
    "id": "qFulWzHC3TbO",
    "outputId": "2a853384-6bd5-4d29-f13e-f50d154660bc"
   },
   "outputs": [],
   "source": [
    "## Generate confusion matrix data\n",
    "con = confusion_matrix(true_single, pred_single)\n",
    "print(con)\n",
    "con_df = pd.DataFrame(con)\n",
    "con_df.to_csv(unetPP_folder + 'Single_Conf.csv', index= False , header = False)\n",
    "\n",
    "\n",
    "print( \"\\n\\n\\n\")\n",
    "\n",
    "nor_con = confusion_matrix(true_single, pred_single,normalize='true')\n",
    "print(nor_con)\n",
    "nor_con_df = pd.DataFrame(nor_con)\n",
    "nor_con_df.to_csv(unetPP_folder + 'Single_Conf_Nor.csv', index= False , header = False)\n"
   ]
  },
  {
   "cell_type": "code",
   "execution_count": null,
   "metadata": {
    "colab": {
     "base_uri": "https://localhost:8080/"
    },
    "executionInfo": {
     "elapsed": 464,
     "status": "ok",
     "timestamp": 1715676831054,
     "user": {
      "displayName": "趙伯宣",
      "userId": "09648794267176348713"
     },
     "user_tz": -480
    },
    "id": "bBJPp59kn5wE",
    "outputId": "d27a8f72-d44b-4433-e247-1172f5ff15fd"
   },
   "outputs": [],
   "source": [
    "## Optional: Load confusion matrix data\n",
    "unetPP_folder = 'UNetPP_result/'\n",
    "\n",
    "con = np.genfromtxt(unetPP_folder + 'Single_Conf.csv', delimiter=',')\n",
    "print(con)\n",
    "\n",
    "nor_con = np.genfromtxt(unetPP_folder + 'Single_Conf_Nor.csv', delimiter=',')\n",
    "print(nor_con)"
   ]
  },
  {
   "cell_type": "code",
   "execution_count": null,
   "metadata": {
    "colab": {
     "base_uri": "https://localhost:8080/",
     "height": 1000
    },
    "executionInfo": {
     "elapsed": 1783,
     "status": "ok",
     "timestamp": 1715676838692,
     "user": {
      "displayName": "趙伯宣",
      "userId": "09648794267176348713"
     },
     "user_tz": -480
    },
    "id": "Jt7hpfF-i7MZ",
    "outputId": "419f7028-6a20-480a-9390-9fddb6949702"
   },
   "outputs": [],
   "source": [
    "plt.rcParams['font.size'] = 8\n",
    "plt.rcParams['figure.dpi'] = 300\n",
    "\n",
    "singleBac_labels = np.array(['Non-Single', 'Single-Bacterium'])\n",
    "\n",
    "disp = ConfusionMatrixDisplay(confusion_matrix=con, display_labels = singleBac_labels)\n",
    "disp.plot(cmap ='gist_yarg', colorbar=False)\n",
    "plt.xticks(fontsize = 10)\n",
    "plt.yticks(rotation=90, ha='right', fontsize = 10, rotation_mode='default', va=\"center\")\n",
    "plt.xlabel('Prediction', fontsize=12)\n",
    "plt.ylabel('True', fontsize=12)\n",
    "plt.savefig(unetPP_folder + 'Single_Conf.png', dpi=300, transparent=True, bbox_inches='tight')\n"
   ]
  },
  {
   "cell_type": "code",
   "execution_count": null,
   "metadata": {
    "colab": {
     "base_uri": "https://localhost:8080/",
     "height": 1000
    },
    "executionInfo": {
     "elapsed": 2010,
     "status": "ok",
     "timestamp": 1715676841153,
     "user": {
      "displayName": "趙伯宣",
      "userId": "09648794267176348713"
     },
     "user_tz": -480
    },
    "id": "tgzdawvn3VlB",
    "outputId": "26c54907-d26f-4d2a-e846-bd3145a50e23"
   },
   "outputs": [],
   "source": [
    "plt.rcParams['font.size'] = 16\n",
    "plt.rcParams['figure.dpi'] = 300\n",
    "\n",
    "singleBac_labels = np.array(['Non-Single', 'Single-Bacterium'])\n",
    "\n",
    "nor_con = np.around(nor_con, 2)\n",
    "nor_disp = ConfusionMatrixDisplay(confusion_matrix=nor_con, display_labels = singleBac_labels)\n",
    "nor_disp.plot(cmap ='gist_yarg', colorbar=False)\n",
    "plt.xticks(fontsize = 10)\n",
    "plt.yticks(rotation=90, ha='right', fontsize = 10, rotation_mode='default', va=\"center\")\n",
    "plt.xlabel('Prediction', fontsize=12)\n",
    "plt.ylabel('True', fontsize=12)\n",
    "plt.savefig(unetPP_folder + 'Single_Conf_Nor.png', dpi=300, transparent=True, bbox_inches='tight')"
   ]
  },
  {
   "cell_type": "markdown",
   "metadata": {
    "id": "gIZ_ZK3LQHJw"
   },
   "source": [
    "# Model: U-Net (CNN-based)"
   ]
  },
  {
   "cell_type": "markdown",
   "metadata": {
    "id": "7J3Xr60h6s8M"
   },
   "source": [
    "## Set U-Net result folder"
   ]
  },
  {
   "cell_type": "code",
   "execution_count": null,
   "metadata": {
    "id": "QsGxIarl6xc5"
   },
   "outputs": [],
   "source": [
    "unet_folder  = 'UNet_result/'"
   ]
  },
  {
   "cell_type": "markdown",
   "metadata": {
    "id": "xPi6CtUab39V"
   },
   "source": [
    "## Real U-net"
   ]
  },
  {
   "cell_type": "code",
   "execution_count": null,
   "metadata": {
    "id": "QlIfFsS7ah3G"
   },
   "outputs": [],
   "source": [
    "import tensorflow as tf\n",
    "from tensorflow import keras\n",
    "from tensorflow.keras import layers\n",
    "import tensorflow_datasets as tfds\n",
    "import matplotlib.pyplot as plt\n",
    "import numpy as np\n",
    "\n",
    "\n",
    "def double_conv_block(x, n_filters):\n",
    "   # Conv2D then ReLU activation\n",
    "   x = layers.Conv2D(n_filters, 3, padding = \"same\", activation = \"relu\", kernel_initializer = \"he_normal\")(x)\n",
    "   # Conv2D then ReLU activation\n",
    "   x = layers.Conv2D(n_filters, 3, padding = \"same\", activation = \"relu\", kernel_initializer = \"he_normal\")(x)\n",
    "   return x\n",
    "\n",
    "def downsample_block(x, n_filters):\n",
    "   f = double_conv_block(x, n_filters)\n",
    "   p = layers.MaxPool2D(2)(f)\n",
    "   p = layers.Dropout(0.5)(p)\n",
    "   return f, p\n",
    "\n",
    "\n",
    "def upsample_block(x, conv_features, n_filters):\n",
    "   # upsample\n",
    "   x = layers.Conv2DTranspose(n_filters, 3, 2, padding=\"same\")(x)\n",
    "   # concatenate\n",
    "   x = layers.concatenate([x, conv_features])\n",
    "   # dropout\n",
    "   x = layers.Dropout(0.5)(x)\n",
    "   # Conv2D twice with ReLU activation\n",
    "   x = double_conv_block(x, n_filters)\n",
    "   return x\n",
    "\n",
    "\n",
    "def build_unet_model():\n",
    "    # inputs\n",
    "    inputs = layers.Input(shape=(128,128,3))\n",
    "    # encoder: contracting path - downsample\n",
    "    # 1 - downsample\n",
    "    f1, p1 = downsample_block(inputs, 64)\n",
    "    # 2 - downsample\n",
    "    f2, p2 = downsample_block(p1, 128)\n",
    "    # 3 - downsample\n",
    "    f3, p3 = downsample_block(p2, 256)\n",
    "    # 4 - downsample\n",
    "    f4, p4 = downsample_block(p3, 512)\n",
    "    # 5 - bottleneck\n",
    "    bottleneck = double_conv_block(p4, 1024)\n",
    "    # decoder: expanding path - upsample\n",
    "    # 6 - upsample\n",
    "    u6 = upsample_block(bottleneck, f4, 512)\n",
    "    # 7 - upsample\n",
    "    u7 = upsample_block(u6, f3, 256)\n",
    "    # 8 - upsample\n",
    "    u8 = upsample_block(u7, f2, 128)\n",
    "    # 9 - upsample\n",
    "    u9 = upsample_block(u8, f1, 64)\n",
    "    # outputs\n",
    "    outputs = layers.Conv2D(1, 1, padding=\"same\", activation = \"sigmoid\")(u9)\n",
    "    # unet model with Keras Functional API\n",
    "    unet_model = tf.keras.Model(inputs, outputs, name=\"U-Net\")\n",
    "    return unet_model\n",
    "\n",
    "\n",
    "\n",
    "\n",
    "\n",
    "\n",
    "\n"
   ]
  },
  {
   "cell_type": "code",
   "execution_count": null,
   "metadata": {
    "colab": {
     "base_uri": "https://localhost:8080/"
    },
    "executionInfo": {
     "elapsed": 744,
     "status": "ok",
     "timestamp": 1715512396031,
     "user": {
      "displayName": "趙伯宣",
      "userId": "09648794267176348713"
     },
     "user_tz": -480
    },
    "id": "NvEa3_Iw1i6B",
    "outputId": "7bd1b7b2-4515-48e8-e7ac-b618802ea1fc"
   },
   "outputs": [],
   "source": [
    "model = build_unet_model()\n",
    "model.summary()"
   ]
  },
  {
   "cell_type": "markdown",
   "metadata": {
    "id": "-xU-GNedeonJ"
   },
   "source": [
    "## Training\n"
   ]
  },
  {
   "cell_type": "markdown",
   "metadata": {
    "id": "uTE3A2t1e-XR"
   },
   "source": [
    "### Loss Function"
   ]
  },
  {
   "cell_type": "code",
   "execution_count": null,
   "metadata": {
    "id": "H3IK-uS1etEb"
   },
   "outputs": [],
   "source": [
    "m_iou = tf.keras.metrics.BinaryIoU(\n",
    "    target_class_ids=[1], threshold=0.5, name=None, dtype=None\n",
    ")\n",
    "\n",
    "opt = keras.optimizers.Adam(learning_rate=1e-4, clipvalue=0.5)\n",
    "\n",
    "model.compile(loss=BinaryCrossentropy(), optimizer=opt,  metrics=[m_iou])\n"
   ]
  },
  {
   "cell_type": "markdown",
   "metadata": {
    "id": "Cy9SYxVvkzdu"
   },
   "source": [
    "## (Optional) Alternate: Load existed model"
   ]
  },
  {
   "cell_type": "code",
   "execution_count": null,
   "metadata": {
    "colab": {
     "base_uri": "https://localhost:8080/"
    },
    "executionInfo": {
     "elapsed": 18667,
     "status": "ok",
     "timestamp": 1715336885130,
     "user": {
      "displayName": "趙伯宣",
      "userId": "09648794267176348713"
     },
     "user_tz": -480
    },
    "id": "02e7Rd1Pkz80",
    "outputId": "29dc87e9-9041-48ad-e4d9-9c45a30d943f"
   },
   "outputs": [],
   "source": [
    "model = tf.keras.models.load_model(unet_folder + 'best_model_0510.keras')\n",
    "model.summary()"
   ]
  },
  {
   "cell_type": "markdown",
   "metadata": {
    "id": "Ef5WnRtwfH0Z"
   },
   "source": [
    "## Check Model"
   ]
  },
  {
   "cell_type": "code",
   "execution_count": null,
   "metadata": {
    "colab": {
     "base_uri": "https://localhost:8080/",
     "height": 372
    },
    "executionInfo": {
     "elapsed": 5907,
     "status": "error",
     "timestamp": 1715405038112,
     "user": {
      "displayName": "趙伯宣",
      "userId": "09648794267176348713"
     },
     "user_tz": -480
    },
    "id": "IffuMWiPfJCY",
    "outputId": "c1b652f9-595f-4336-a21e-2019f49357c0"
   },
   "outputs": [],
   "source": [
    "# Function to create a mask out of network prediction\n",
    "def create_mask(pred_mask: tf.Tensor) -> tf.Tensor:\n",
    "    # Round to closest\n",
    "    pred_mask = tf.math.round(pred_mask)\n",
    "    pred_mask = tf.expand_dims(pred_mask, axis=-1)\n",
    "    return pred_mask\n",
    "\n",
    "# Function to show predictions\n",
    "def show_predictions(dataset=None, num=1):\n",
    "    if dataset:\n",
    "        # Predict and show image from input dataset\n",
    "        for image, mask in dataset.take(num):\n",
    "            pred_mask = model.predict(image)\n",
    "            display_sample([image[0], mask, create_mask(pred_mask)])\n",
    "    else:\n",
    "        # Predict and show the sample image\n",
    "        inference = model.predict(sample_image)\n",
    "        display_sample([sample_image[0], sample_mask[0],\n",
    "                        inference[0]])\n",
    "\n",
    "for image, mask in dataset['train'].take(1):\n",
    "    sample_image, sample_mask = image, mask\n",
    "\n",
    "show_predictions()"
   ]
  },
  {
   "cell_type": "markdown",
   "metadata": {
    "id": "dGp4r0Irflx1"
   },
   "source": [
    "## Train Model"
   ]
  },
  {
   "cell_type": "code",
   "execution_count": null,
   "metadata": {
    "colab": {
     "base_uri": "https://localhost:8080/"
    },
    "executionInfo": {
     "elapsed": 319,
     "status": "ok",
     "timestamp": 1715512444298,
     "user": {
      "displayName": "趙伯宣",
      "userId": "09648794267176348713"
     },
     "user_tz": -480
    },
    "id": "ayTS_e5XiPGB",
    "outputId": "783bcbb6-504b-4c0b-da71-cc341c6e3443"
   },
   "outputs": [],
   "source": [
    "# Callbacks and Logs\n",
    "class DisplayCallback(callbacks.Callback):\n",
    "    def on_epoch_end(self, epoch, logs=None):\n",
    "        clear_output(wait=True)\n",
    "        show_predictions()\n",
    "        print ('\\nSample Prediction after epoch {}\\n'.format(epoch+1))\n",
    "\n",
    "logdir = os.path.join(\"logs\", datetime.datetime.now().strftime(\"%Y%m%d-%H%M%S\"))\n",
    "\n",
    "callbacks = [\n",
    "    DisplayCallback(),\n",
    "    callbacks.TensorBoard(logdir, histogram_freq = -1),\n",
    "    callbacks.EarlyStopping(patience = 10, verbose = 1),\n",
    "    callbacks.ModelCheckpoint(unet_folder +'best_model_0511.keras', verbose = 1, save_best_only = True)\n",
    "\n",
    "]\n",
    "\n",
    "## Set Variables\n",
    "EPOCHS = 300\n",
    "STEPS_PER_EPOCH = TRAINSET_SIZE // BATCH_SIZE\n",
    "VALIDATION_STEPS = VALIDSET_SIZE // BATCH_SIZE\n",
    "print(TRAINSET_SIZE)\n",
    "print(VALIDSET_SIZE)\n",
    "print(BATCH_SIZE)\n",
    "print(STEPS_PER_EPOCH)\n",
    "print(VALIDATION_STEPS)"
   ]
  },
  {
   "cell_type": "markdown",
   "metadata": {
    "id": "tEBiikBW3QYg"
   },
   "source": [
    "要在每次 epoch 後存取這些數據並在訓練結束後進行比較，您可以使用 Keras 的回調函數。以下是步驟來達到這個目的：\n",
    "\n",
    "創建一個自定義的回調函數來存儲每次 epoch 的數據：\n",
    "首先，您需要創建一個自定義的回調函數。\n"
   ]
  },
  {
   "cell_type": "code",
   "execution_count": null,
   "metadata": {
    "id": "yffrBxws3TCS"
   },
   "outputs": [],
   "source": [
    "class CustomHistory(Callback):\n",
    "    def __init__(self):\n",
    "        self.losses = []\n",
    "        self.mean_io_u_1_values = []\n",
    "        self.dice_values = []\n",
    "        self.val_losses = []\n",
    "        self.val_mean_io_u_1_values = []\n",
    "        self.val_dice_values = []\n",
    "\n",
    "    def on_epoch_end(self, epoch, logs=None):\n",
    "        self.losses.append(logs.get('loss'))\n",
    "        self.mean_io_u_1_values.append(logs.get('binary_io_u'))\n",
    "\n",
    "\n",
    "        self.val_losses.append(logs.get('val_loss'))\n",
    "        self.val_mean_io_u_1_values.append(logs.get('val_binary_io_u'))\n",
    "\n",
    "\n",
    "\n",
    "custom_history = CustomHistory()\n",
    "\n",
    "\n"
   ]
  },
  {
   "cell_type": "code",
   "execution_count": null,
   "metadata": {
    "colab": {
     "base_uri": "https://localhost:8080/"
    },
    "executionInfo": {
     "elapsed": 604909,
     "status": "ok",
     "timestamp": 1715513059346,
     "user": {
      "displayName": "趙伯宣",
      "userId": "09648794267176348713"
     },
     "user_tz": -480
    },
    "id": "xA5fF5GjJVCN",
    "outputId": "1378faa4-b92b-4482-a50e-f410d2148b8c"
   },
   "outputs": [],
   "source": [
    "checkpoint = ModelCheckpoint(unet_folder +'best_model_0511.keras', monitor='val_loss', verbose=1, save_best_only=True, mode='min')\n",
    "callbacks_list = [custom_history, checkpoint]\n",
    "\n",
    "\n",
    "initial_time = time()\n",
    "\n",
    "# Model Train\n",
    "model.fit(dataset['train'], epochs=EPOCHS,\n",
    "          steps_per_epoch=STEPS_PER_EPOCH,\n",
    "          validation_data=dataset['val'],\n",
    "          validation_steps=VALIDATION_STEPS,\n",
    "          callbacks=callbacks_list)\n",
    "\n",
    "\n",
    "print('Finished U-net Training')\n",
    "print('Training time', time() - initial_time)\n",
    "\n",
    "model.save(unet_folder + 'epoch300_model/Epoch250_UNET_model.keras')"
   ]
  },
  {
   "cell_type": "markdown",
   "metadata": {
    "id": "yTBPbQRpBrRZ"
   },
   "source": [
    "## validation set  show"
   ]
  },
  {
   "cell_type": "code",
   "execution_count": null,
   "metadata": {
    "colab": {
     "base_uri": "https://localhost:8080/",
     "height": 487
    },
    "executionInfo": {
     "elapsed": 2529,
     "status": "ok",
     "timestamp": 1715513061867,
     "user": {
      "displayName": "趙伯宣",
      "userId": "09648794267176348713"
     },
     "user_tz": -480
    },
    "id": "OfeG-Ue0BrAy",
    "outputId": "25cfe46c-358b-449a-f0a0-fca6ba21d304"
   },
   "outputs": [],
   "source": [
    "#### Repeat for safety and reabiility #####################################################\n",
    "\n",
    "# Function to show predictions\n",
    "def show_predictions(dataset=None, num=1):\n",
    "    if dataset:\n",
    "        # Predict and show image from input dataset\n",
    "        for image, mask in dataset.take(num):\n",
    "            pred_mask = model.predict(image)\n",
    "            display_sample([image[0], true_mask, create_mask(pred_mask)])\n",
    "    else:\n",
    "        # Predict and show the sample image\n",
    "        inference = model.predict(sample_image)\n",
    "        display_sample([sample_image[0], sample_mask[0],\n",
    "                        inference[0]])\n",
    "\n",
    "#########################################################\n",
    "\n",
    "for image, mask in dataset['val'].take(1):\n",
    "    sample_image, sample_mask = image, mask\n",
    "\n",
    "show_predictions()"
   ]
  },
  {
   "cell_type": "markdown",
   "metadata": {
    "id": "c0WsyuQZOIVD"
   },
   "source": [
    "## Training loss"
   ]
  },
  {
   "cell_type": "code",
   "execution_count": null,
   "metadata": {
    "id": "FhE681FDo2tr"
   },
   "outputs": [],
   "source": [
    "training_loss = custom_history.losses\n",
    "epochs = list(range(1, len(training_loss) + 1))\n",
    "\n",
    "df = pd.DataFrame({\"Epochs\": epochs, \"train_loss\" : training_loss})\n",
    "df.to_csv(unet_folder +'training_loss.csv', index=False)"
   ]
  },
  {
   "cell_type": "code",
   "execution_count": null,
   "metadata": {
    "colab": {
     "base_uri": "https://localhost:8080/",
     "height": 645
    },
    "executionInfo": {
     "elapsed": 7,
     "status": "ok",
     "timestamp": 1715513062351,
     "user": {
      "displayName": "趙伯宣",
      "userId": "09648794267176348713"
     },
     "user_tz": -480
    },
    "id": "yVMm-CUfBY8V",
    "outputId": "253e279f-8efc-468e-8b6e-0108b6289f69"
   },
   "outputs": [],
   "source": [
    "import matplotlib.pyplot as plt\n",
    "\n",
    "training_loss = custom_history.losses\n",
    "print(training_loss)\n",
    "\n",
    "epochs = list(range(1, len(training_loss) + 1))\n",
    "\n",
    "plt.figure(figsize=(10, 6))\n",
    "plt.plot(epochs,training_loss, '-', label='training_loss')\n",
    "plt.title('training_loss over epochs')\n",
    "plt.xlabel('Epochs')\n",
    "plt.ylabel('training_loss')\n",
    "plt.legend()\n",
    "plt.tight_layout()\n",
    "plt.show()"
   ]
  },
  {
   "cell_type": "markdown",
   "metadata": {
    "id": "oRaZwFe8Ul_1"
   },
   "source": [
    "## Validate Loss"
   ]
  },
  {
   "cell_type": "code",
   "execution_count": null,
   "metadata": {
    "colab": {
     "base_uri": "https://localhost:8080/",
     "height": 607
    },
    "executionInfo": {
     "elapsed": 918,
     "status": "ok",
     "timestamp": 1715513063264,
     "user": {
      "displayName": "趙伯宣",
      "userId": "09648794267176348713"
     },
     "user_tz": -480
    },
    "id": "J_Gykrs9Ui8S",
    "outputId": "b1299d88-1b7a-4404-ddb1-a529a6e88969"
   },
   "outputs": [],
   "source": [
    "val_losses = custom_history.val_losses\n",
    "\n",
    "epochs = list(range(1, len(val_losses) + 1))\n",
    "\n",
    "# save log file\n",
    "df = pd.DataFrame({\"Epochs\": epochs, \"validate_loss\" : val_losses})\n",
    "df.to_csv(unet_folder +'validate_loss.csv', index=False)\n",
    "\n",
    "\n",
    "plt.figure(figsize=(10, 6))\n",
    "plt.plot(epochs,val_losses, '-', label='val_losses')\n",
    "plt.title('val_losses over epochs')\n",
    "plt.xlabel('Epochs')\n",
    "plt.ylabel('val_losses')\n",
    "plt.legend()\n",
    "plt.tight_layout()\n",
    "plt.show()\n"
   ]
  },
  {
   "cell_type": "markdown",
   "metadata": {
    "id": "yLNfzlO_tL3c"
   },
   "source": [
    "## Mean_ioU"
   ]
  },
  {
   "cell_type": "code",
   "execution_count": null,
   "metadata": {
    "colab": {
     "base_uri": "https://localhost:8080/",
     "height": 645
    },
    "executionInfo": {
     "elapsed": 920,
     "status": "ok",
     "timestamp": 1715513064181,
     "user": {
      "displayName": "趙伯宣",
      "userId": "09648794267176348713"
     },
     "user_tz": -480
    },
    "id": "9dGbzzL-tLTY",
    "outputId": "442eb81b-b00d-4e79-e86b-8ffc0c4105ac"
   },
   "outputs": [],
   "source": [
    "mean_io_u_1_values = custom_history.mean_io_u_1_values\n",
    "print(mean_io_u_1_values)\n",
    "\n",
    "epochs = list(range(1, len(mean_io_u_1_values) + 1))\n",
    "\n",
    "df = pd.DataFrame({\"Epochs\": epochs, \"train_bIOU\" : mean_io_u_1_values})\n",
    "df.to_csv(unet_folder + 'training_bIOU.csv', index=False)\n",
    "\n",
    "plt.figure(figsize=(10, 6))\n",
    "plt.plot(epochs, mean_io_u_1_values, '-', label='mean_io_u_values')\n",
    "plt.title('mean_io_u over epochs')\n",
    "plt.xlabel('Epochs')\n",
    "plt.ylabel('mean_io_u')\n",
    "plt.legend()\n",
    "plt.tight_layout()\n",
    "plt.show()"
   ]
  },
  {
   "cell_type": "markdown",
   "metadata": {
    "id": "mCz8WuVgOFaq"
   },
   "source": [
    "## Val mean_io_u_1\n"
   ]
  },
  {
   "cell_type": "code",
   "execution_count": null,
   "metadata": {
    "colab": {
     "base_uri": "https://localhost:8080/",
     "height": 645
    },
    "executionInfo": {
     "elapsed": 5,
     "status": "ok",
     "timestamp": 1715513064181,
     "user": {
      "displayName": "趙伯宣",
      "userId": "09648794267176348713"
     },
     "user_tz": -480
    },
    "id": "wGXPpMWIMMnA",
    "outputId": "90b90597-9492-44bc-a63c-d0f40fd2b369"
   },
   "outputs": [],
   "source": [
    "val_mean_io_u_1_values = custom_history.val_mean_io_u_1_values\n",
    "print(val_mean_io_u_1_values)\n",
    "\n",
    "epochs = list(range(1, len(val_mean_io_u_1_values) + 1))\n",
    "\n",
    "\n",
    "df = pd.DataFrame({\"Epochs\": epochs, \"val_bIOU\" : val_mean_io_u_1_values})\n",
    "df.to_csv(unet_folder + 'validate_bIOU.csv', index=False)\n",
    "\n",
    "\n",
    "plt.figure(figsize=(10, 6))\n",
    "plt.plot(epochs, val_mean_io_u_1_values, '-', label='val_mean_io_u_values')\n",
    "plt.title('val_mean_io_u_values over epochs')\n",
    "plt.xlabel('Epochs')\n",
    "plt.ylabel('val_mean_io_u_values')\n",
    "plt.legend()\n",
    "plt.tight_layout()\n",
    "plt.show()\n",
    "\n",
    "\n"
   ]
  },
  {
   "cell_type": "markdown",
   "metadata": {
    "id": "kPpxOSu5pI61"
   },
   "source": [
    "## 4 in 1 plot"
   ]
  },
  {
   "cell_type": "code",
   "execution_count": null,
   "metadata": {
    "colab": {
     "base_uri": "https://localhost:8080/",
     "height": 1000
    },
    "executionInfo": {
     "elapsed": 1873,
     "status": "ok",
     "timestamp": 1715619220455,
     "user": {
      "displayName": "趙伯宣",
      "userId": "09648794267176348713"
     },
     "user_tz": -480
    },
    "id": "RJ3RbTwxpIj_",
    "outputId": "d703c67c-f2bb-4da7-f6ea-f224ee0ee8d2"
   },
   "outputs": [],
   "source": [
    "unet_folder  ='UNet_result/'\n",
    "\n",
    "# plt.rcParams['font.size'] = 8\n",
    "# plt.rcParams['figure.dpi'] = 300\n",
    "\n",
    "df1 = pd.read_csv(unet_folder +'training_loss.csv', header=0)\n",
    "df2 = pd.read_csv(unet_folder +'validate_loss.csv', header=0)\n",
    "df3 = pd.read_csv(unet_folder + 'training_bIOU.csv', header=0)\n",
    "df4 = pd.read_csv(unet_folder + 'validate_bIOU.csv', header=0)\n",
    "\n",
    "\n",
    "\n",
    "fig, ax1 = plt.subplots()\n",
    "color = 'tab:red'\n",
    "ax1.set_xlabel('Epochs', fontsize=12)\n",
    "ax1.set_ylabel('Loss', color=color, fontsize=12)\n",
    "ax1.plot(df1[\"Epochs\"], df1[\"train_loss\"], '-', label='Training Loss', color=color)\n",
    "ax1.plot(df2[\"Epochs\"], df2[\"validate_loss\"], '-', alpha = 0.5, label='Validation Loss', color=color)\n",
    "ax1.tick_params(axis='y', labelcolor=color)\n",
    "ax1.set_box_aspect(0.75)\n",
    "ax1.set_ylim([-0.01, 0.13])\n",
    "\n",
    "\n",
    "ax2 = ax1.twinx()  # instantiate a second axes that shares the same x-axis\n",
    "color = 'tab:blue'\n",
    "ax2.set_ylabel('IoU', color=color, fontsize=12)  # we already handled the x-label with ax1\n",
    "ax2.plot(df3[\"Epochs\"], df3[\"train_bIOU\"], '-', label='Training IoU', color=color)\n",
    "ax2.plot(df4[\"Epochs\"], df4[\"val_bIOU\"], '-', alpha = 0.5, label='Validation IoU', color=color)\n",
    "ax2.tick_params(axis='y', labelcolor=color)\n",
    "ax2.set_ylim([-0.1, 0.9])\n",
    "\n",
    "\n",
    "\n",
    "lines, labels = ax1.get_legend_handles_labels()\n",
    "lines2, labels2 = ax2.get_legend_handles_labels()\n",
    "ax2.legend(lines + lines2, labels + labels2, loc=9)\n",
    "\n",
    "\n",
    "plt.show()\n",
    "\n",
    "fig.savefig(unet_folder + 'Unet_4to1.png')\n"
   ]
  },
  {
   "cell_type": "markdown",
   "metadata": {
    "id": "Aa90JORjfS_T"
   },
   "source": [
    "# Testing (Test Dataset)\n"
   ]
  },
  {
   "cell_type": "markdown",
   "metadata": {
    "id": "sykbnyOPr3qW"
   },
   "source": [
    "## (Optional) Load pretrained model"
   ]
  },
  {
   "cell_type": "code",
   "execution_count": null,
   "metadata": {
    "colab": {
     "base_uri": "https://localhost:8080/"
    },
    "executionInfo": {
     "elapsed": 30666,
     "status": "ok",
     "timestamp": 1715516241955,
     "user": {
      "displayName": "趙伯宣",
      "userId": "09648794267176348713"
     },
     "user_tz": -480
    },
    "id": "B5jdB92xr0iD",
    "outputId": "cd0bc071-7e9a-4227-f09a-1abecaae23b0"
   },
   "outputs": [],
   "source": [
    "unet_folder  ='UNet_result/'\n",
    "model = tf.keras.models.load_model(unet_folder + 'epoch300_model/Epoch250_UNET_model.keras')\n",
    "\n",
    "model.summary()"
   ]
  },
  {
   "cell_type": "markdown",
   "metadata": {
    "id": "4RFyZtw2hMV5"
   },
   "source": [
    "## Calculate Time for Test-set prediction"
   ]
  },
  {
   "cell_type": "code",
   "execution_count": null,
   "metadata": {
    "colab": {
     "base_uri": "https://localhost:8080/"
    },
    "executionInfo": {
     "elapsed": 2959,
     "status": "ok",
     "timestamp": 1715513067137,
     "user": {
      "displayName": "趙伯宣",
      "userId": "09648794267176348713"
     },
     "user_tz": -480
    },
    "id": "LL3LlbyShMAg",
    "outputId": "26fa7798-a777-4021-8178-5362de8cc805"
   },
   "outputs": [],
   "source": [
    "initial_time = time()\n",
    "\n",
    "for image, mask in dataset['test']:\n",
    "    pred_mask = model.predict(image)\n",
    "\n",
    "print('Finished U-net Testing')\n",
    "print('Testing time', time() - initial_time)"
   ]
  },
  {
   "cell_type": "markdown",
   "metadata": {
    "id": "LaYksolxcbKr"
   },
   "source": [
    "## Predict mask analysis"
   ]
  },
  {
   "cell_type": "markdown",
   "metadata": {
    "id": "Xt6s_It-r1pq"
   },
   "source": [
    "### Function to calculate mask over image"
   ]
  },
  {
   "cell_type": "code",
   "execution_count": null,
   "metadata": {
    "id": "4WsnazEoE_66"
   },
   "outputs": [],
   "source": [
    "# Function to calculate mask over image\n",
    "def weighted_img(img, initial_img, α=1., β=0.5, γ=0.):\n",
    "    return cv2.addWeighted(initial_img, α, img, β, γ)\n",
    "\n",
    "# Function to process an individual image and it's mask\n",
    "def process_image_mask(image, mask):\n",
    "    # Round to closest\n",
    "    mask = tf.math.round(mask)\n",
    "\n",
    "    # Convert to mask image\n",
    "    zero_image = np.zeros_like(mask)\n",
    "    mask = np.dstack((mask, zero_image, zero_image))\n",
    "    mask = np.asarray(mask, np.float32)\n",
    "\n",
    "    # Convert to image image\n",
    "    image = np.asarray(image, np.float32)\n",
    "\n",
    "    # Get the final image\n",
    "    final_image = weighted_img(mask, image)\n",
    "\n",
    "    return final_image"
   ]
  },
  {
   "cell_type": "code",
   "execution_count": null,
   "metadata": {
    "id": "oWoRXEsBKLaF"
   },
   "outputs": [],
   "source": [
    "def bacteria_count(mask):\n",
    "    mask_img = tf.keras.preprocessing.image.array_to_img(mask)\n",
    "    img2 = cv2.cvtColor(np.asarray(mask_img), cv2.COLOR_RGB2BGR)\n",
    "    gray = cv2.cvtColor(img2, cv2.COLOR_BGR2GRAY)\n",
    "    cnts = cv2.findContours(gray, cv2.RETR_EXTERNAL, cv2.CHAIN_APPROX_SIMPLE)\n",
    "    cnts = cnts[0] if len(cnts) == 2 else cnts[1]\n",
    "    bacNum = len(cnts)\n",
    "    return bacNum"
   ]
  },
  {
   "cell_type": "code",
   "execution_count": null,
   "metadata": {
    "id": "EZAelDuTFD6k"
   },
   "outputs": [],
   "source": [
    "# Function to save predictions\n",
    "def save_predictions(dataset, True_Counts, Pred_Counts):\n",
    "    # Predict and save image the from input dataset\n",
    "    index = 0\n",
    "    for batch_image, batch_mask in dataset:\n",
    "        for image, mask in zip(batch_image, batch_mask):\n",
    "            print(f\"Processing image : {index}\")\n",
    "            pred_mask = model.predict(tf.expand_dims(image, axis = 0))\n",
    "            save_sample([image, process_image_mask(image, mask), process_image_mask(image, pred_mask[0])], index)\n",
    "\n",
    "\n",
    "            true_bacNum = bacteria_count(mask)\n",
    "            True_Counts.append(true_bacNum)\n",
    "            print(\"True Bac-Num:    \", true_bacNum)\n",
    "            print(\" \")\n",
    "\n",
    "            pred_mask_round = tf.math.round(pred_mask[0])\n",
    "            pred_bacNum = bacteria_count(pred_mask_round)\n",
    "            Pred_Counts.append(pred_bacNum)\n",
    "            print(\"Predict Bac-Num: \", pred_bacNum)\n",
    "            print(\" \")\n",
    "\n",
    "            img = tf.keras.preprocessing.image.array_to_img(image)\n",
    "            img.save(unet_folder + f'outputs/{index}_well.png')\n",
    "            true_mask_img = tf.keras.preprocessing.image.array_to_img(process_image_mask(image, mask))\n",
    "            true_mask_img.save(unet_folder + f'outputs/{index}_true.png')\n",
    "            pred_mask_img = tf.keras.preprocessing.image.array_to_img(process_image_mask(image, pred_mask[0]))\n",
    "            pred_mask_img.save(unet_folder + f'outputs/{index}_predict.png')\n",
    "\n",
    "            index += 1\n",
    "\n",
    "# Function to save the images as a plot\n",
    "def save_sample(display_list, index):\n",
    "    plt.figure(figsize=(18, 18))\n",
    "\n",
    "    # title = ['Input Image', 'Predicted Mask']\n",
    "    title = ['Input Image', 'True Mask', 'Predicted Mask']\n",
    "\n",
    "    for i in range(len(display_list)):\n",
    "        plt.subplot(1, len(display_list), i+1)\n",
    "        plt.title(title[i])\n",
    "        plt.imshow(tf.keras.preprocessing.image.array_to_img(display_list[i]))\n",
    "        plt.axis('off')\n",
    "\n",
    "    plt.savefig(unet_folder + f'outputs/{index}.png')\n",
    "    plt.show()"
   ]
  },
  {
   "cell_type": "code",
   "execution_count": null,
   "metadata": {
    "colab": {
     "base_uri": "https://localhost:8080/",
     "height": 1000
    },
    "executionInfo": {
     "elapsed": 100383,
     "status": "ok",
     "timestamp": 1715513167518,
     "user": {
      "displayName": "趙伯宣",
      "userId": "09648794267176348713"
     },
     "user_tz": -480
    },
    "id": "WK5q6E0bFF7F",
    "outputId": "43c63749-b63a-4ebc-feab-008f92085beb"
   },
   "outputs": [],
   "source": [
    "# os.mkdir(\"outputs\")\n",
    "\n",
    "True_Counts = []\n",
    "Pred_Counts = []\n",
    "\n",
    "\n",
    "save_predictions(dataset['test'], True_Counts, Pred_Counts)"
   ]
  },
  {
   "cell_type": "markdown",
   "metadata": {
    "id": "dzdRleEiMAFq"
   },
   "source": [
    "### Confusion Matrix"
   ]
  },
  {
   "cell_type": "code",
   "execution_count": null,
   "metadata": {
    "colab": {
     "base_uri": "https://localhost:8080/"
    },
    "executionInfo": {
     "elapsed": 10,
     "status": "ok",
     "timestamp": 1715513167519,
     "user": {
      "displayName": "趙伯宣",
      "userId": "09648794267176348713"
     },
     "user_tz": -480
    },
    "id": "7rT4PHZgPGzl",
    "outputId": "2059285d-3e6a-4c8a-c8e2-eb830a638390"
   },
   "outputs": [],
   "source": [
    "print(True_Counts)\n",
    "print(Pred_Counts)\n",
    "\n",
    "num_result = pd.DataFrame({'True_Number': True_Counts, 'Predict_Number': Pred_Counts})\n",
    "num_result.to_csv(unet_folder + 'Number_Result.csv', index= False , header = True)"
   ]
  },
  {
   "cell_type": "code",
   "execution_count": null,
   "metadata": {
    "id": "VbcHj-QnP4s0"
   },
   "outputs": [],
   "source": [
    "def acc_calculation(predict, label):\n",
    "    total = len(Pred_Counts)\n",
    "    correct = 0\n",
    "    for i in range(total):\n",
    "        if (predict[i] == label[i]):\n",
    "            correct += 1\n",
    "\n",
    "    return round(100 * correct / total, 2)"
   ]
  },
  {
   "cell_type": "code",
   "execution_count": null,
   "metadata": {
    "colab": {
     "base_uri": "https://localhost:8080/"
    },
    "executionInfo": {
     "elapsed": 640,
     "status": "ok",
     "timestamp": 1715513168157,
     "user": {
      "displayName": "趙伯宣",
      "userId": "09648794267176348713"
     },
     "user_tz": -480
    },
    "id": "ZrAgDczZRzVQ",
    "outputId": "d4a40be3-6345-4619-b830-fc5132d3e2bd"
   },
   "outputs": [],
   "source": [
    "acc = acc_calculation(Pred_Counts, True_Counts)\n",
    "print(acc)\n",
    "\n",
    "num_accuracy = pd.DataFrame({'Number_Accuracy': [acc]})\n",
    "num_accuracy.to_csv(unet_folder + 'Number_Accuracy.csv', index= False , header = True)"
   ]
  },
  {
   "cell_type": "code",
   "execution_count": null,
   "metadata": {
    "colab": {
     "base_uri": "https://localhost:8080/"
    },
    "executionInfo": {
     "elapsed": 2,
     "status": "ok",
     "timestamp": 1715513168157,
     "user": {
      "displayName": "趙伯宣",
      "userId": "09648794267176348713"
     },
     "user_tz": -480
    },
    "id": "Ir4sGh1QL9wH",
    "outputId": "41794262-bae6-43bd-c185-3f62db361753"
   },
   "outputs": [],
   "source": [
    "from sklearn.metrics import confusion_matrix, ConfusionMatrixDisplay\n",
    "\n",
    "con = confusion_matrix(True_Counts, Pred_Counts)\n",
    "print(con)\n",
    "cnn_df = pd.DataFrame(con)\n",
    "cnn_df.to_csv(unet_folder + 'Number_Conf.csv', index= False , header = False)\n",
    "\n",
    "\n",
    "print(\" \")\n",
    "\n",
    "nor_con = confusion_matrix(True_Counts, Pred_Counts,normalize='true')\n",
    "print(nor_con)\n",
    "\n",
    "\n",
    "nor_con_df = pd.DataFrame(nor_con)\n",
    "nor_con_df.to_csv(unet_folder + 'Number_Conf_Nor.csv', index= False , header = False)"
   ]
  },
  {
   "cell_type": "markdown",
   "metadata": {
    "id": "oDkLjygzsHiC"
   },
   "source": [
    "### [Optional] Load Num_conf csv"
   ]
  },
  {
   "cell_type": "code",
   "execution_count": null,
   "metadata": {
    "colab": {
     "base_uri": "https://localhost:8080/"
    },
    "executionInfo": {
     "elapsed": 1360,
     "status": "ok",
     "timestamp": 1716455862715,
     "user": {
      "displayName": "趙伯宣",
      "userId": "09648794267176348713"
     },
     "user_tz": -480
    },
    "id": "6TyNkXRCsfSI",
    "outputId": "9ae4efce-9634-4fc4-a520-ef711d356cc2"
   },
   "outputs": [],
   "source": [
    "unet_folder  ='UNet_result/'\n",
    "\n",
    "con = np.genfromtxt(unet_folder + 'Number_Conf.csv', delimiter=',')\n",
    "print(con)\n",
    "\n",
    "nor_con = np.genfromtxt(unet_folder + 'Number_Conf_Nor.csv', delimiter=',')\n",
    "print(nor_con)"
   ]
  },
  {
   "cell_type": "code",
   "execution_count": null,
   "metadata": {
    "colab": {
     "base_uri": "https://localhost:8080/",
     "height": 1000
    },
    "executionInfo": {
     "elapsed": 3895,
     "status": "ok",
     "timestamp": 1716455866609,
     "user": {
      "displayName": "趙伯宣",
      "userId": "09648794267176348713"
     },
     "user_tz": -480
    },
    "id": "jAKgiAIHlQBd",
    "outputId": "63b9ff5b-92b0-4b41-8861-c1081e032a89"
   },
   "outputs": [],
   "source": [
    "plt.rcParams['font.size'] = 8\n",
    "plt.rcParams['figure.dpi'] = 300\n",
    "\n",
    "BacNum_labels = np.array(['0', '1', '2', '3', '4', '5', '6', '7'])\n",
    "\n",
    "nor_con = np.around(nor_con, 2)\n",
    "nor_disp = ConfusionMatrixDisplay(confusion_matrix=con, display_labels = BacNum_labels)\n",
    "nor_disp.plot(cmap ='gist_yarg', colorbar=False)\n",
    "plt.xlabel('Predicted Number', fontsize=12)\n",
    "plt.ylabel('True Number', fontsize=12)\n",
    "\n",
    "plt.savefig(unet_folder + 'Number_Conf.png', dpi=300, transparent=True, bbox_inches='tight')"
   ]
  },
  {
   "cell_type": "code",
   "execution_count": null,
   "metadata": {
    "colab": {
     "base_uri": "https://localhost:8080/",
     "height": 1000
    },
    "executionInfo": {
     "elapsed": 1974,
     "status": "ok",
     "timestamp": 1716455908704,
     "user": {
      "displayName": "趙伯宣",
      "userId": "09648794267176348713"
     },
     "user_tz": -480
    },
    "id": "33Ngthe4Qte6",
    "outputId": "da26c901-30b4-4967-e0fb-3e9a61fcd57b"
   },
   "outputs": [],
   "source": [
    "plt.rcParams['font.size'] = 8\n",
    "plt.rcParams['figure.dpi'] = 300\n",
    "\n",
    "BacNum_labels = np.array(['0', '1', '2', '3', '4', '5', '6', '7'])\n",
    "\n",
    "nor_con = np.around(nor_con, 2)\n",
    "nor_disp = ConfusionMatrixDisplay(confusion_matrix=nor_con, display_labels = BacNum_labels)\n",
    "nor_disp.plot(cmap ='gist_yarg', colorbar=False)\n",
    "plt.xlabel('Predicted Number', fontsize=12)\n",
    "plt.ylabel('True Number', fontsize=12)\n",
    "plt.savefig(unet_folder + 'Number_Conf_Nor.png', dpi=300, transparent=True, bbox_inches='tight')\n"
   ]
  },
  {
   "cell_type": "code",
   "execution_count": null,
   "metadata": {
    "colab": {
     "base_uri": "https://localhost:8080/",
     "height": 211
    },
    "executionInfo": {
     "elapsed": 5,
     "status": "error",
     "timestamp": 1716455868620,
     "user": {
      "displayName": "趙伯宣",
      "userId": "09648794267176348713"
     },
     "user_tz": -480
    },
    "id": "G2eyTk_uSc_F",
    "outputId": "ead0b90f-ee9d-4c7c-c23f-c2ac2bb5d620"
   },
   "outputs": [],
   "source": [
    "print(True_Counts)\n",
    "single_count = np.array(True_Counts)\n",
    "single_count[single_count != 1] = 0\n",
    "print(single_count)\n",
    "\n"
   ]
  },
  {
   "cell_type": "code",
   "execution_count": null,
   "metadata": {
    "colab": {
     "base_uri": "https://localhost:8080/"
    },
    "executionInfo": {
     "elapsed": 3,
     "status": "ok",
     "timestamp": 1715513170888,
     "user": {
      "displayName": "趙伯宣",
      "userId": "09648794267176348713"
     },
     "user_tz": -480
    },
    "id": "GBCXuuBCS-w1",
    "outputId": "3c2e65a7-75c5-444a-d651-012f763a2cd9"
   },
   "outputs": [],
   "source": [
    "true_single = np.array(True_Counts)\n",
    "true_single[true_single != 1] = 0\n",
    "\n",
    "pred_single = np.array(Pred_Counts)\n",
    "pred_single[pred_single != 1] = 0\n",
    "\n",
    "\n",
    "single_result = pd.DataFrame({'True_Single': true_single, 'Pred_Single': pred_single})\n",
    "single_result.to_csv(unet_folder + 'Single_Result.csv', index= False , header = True)\n",
    "\n",
    "\n",
    "\n",
    "acc = acc_calculation(pred_single, true_single)\n",
    "print(acc)\n",
    "\n",
    "single_accuracy = pd.DataFrame({'Single_Accuracy': [acc]})\n",
    "single_accuracy.to_csv(unet_folder + 'Single_Accuracy.csv', index= False , header = True)"
   ]
  },
  {
   "cell_type": "code",
   "execution_count": null,
   "metadata": {
    "colab": {
     "base_uri": "https://localhost:8080/"
    },
    "executionInfo": {
     "elapsed": 584,
     "status": "ok",
     "timestamp": 1715513171470,
     "user": {
      "displayName": "趙伯宣",
      "userId": "09648794267176348713"
     },
     "user_tz": -480
    },
    "id": "l7Zw28GeTaLk",
    "outputId": "f381fee2-a0c5-4f85-90d5-b025b565b542"
   },
   "outputs": [],
   "source": [
    "from sklearn.metrics import confusion_matrix, ConfusionMatrixDisplay\n",
    "\n",
    "con = confusion_matrix(true_single, pred_single)\n",
    "print(con)\n",
    "con_df = pd.DataFrame(con)\n",
    "con_df.to_csv(unet_folder + 'Single_Conf.csv', index= False , header = False)\n",
    "\n",
    "\n",
    "print( \"\\n\\n\\n\")\n",
    "\n",
    "nor_con = confusion_matrix(true_single, pred_single,normalize='true')\n",
    "print(nor_con)\n",
    "nor_con_df = pd.DataFrame(nor_con)\n",
    "nor_con_df.to_csv(unet_folder + 'Single_Conf_Nor.csv', index= False , header = False)\n"
   ]
  },
  {
   "cell_type": "markdown",
   "metadata": {
    "id": "XDYc612Tvc1c"
   },
   "source": [
    "## [Optional] Load Single_Bac Conf_matrix Csv data"
   ]
  },
  {
   "cell_type": "code",
   "execution_count": null,
   "metadata": {
    "colab": {
     "base_uri": "https://localhost:8080/"
    },
    "executionInfo": {
     "elapsed": 1146,
     "status": "ok",
     "timestamp": 1715676868956,
     "user": {
      "displayName": "趙伯宣",
      "userId": "09648794267176348713"
     },
     "user_tz": -480
    },
    "id": "HsfuwQlpvkan",
    "outputId": "7721f76f-138e-49f4-f30d-6e6f592943a4"
   },
   "outputs": [],
   "source": [
    "unet_folder  ='UNet_result/'\n",
    "\n",
    "con = np.genfromtxt(unet_folder + 'Single_Conf.csv', delimiter=',')\n",
    "print(con)\n",
    "\n",
    "nor_con = np.genfromtxt(unet_folder + 'Single_Conf_Nor.csv', delimiter=',')\n",
    "print(nor_con)"
   ]
  },
  {
   "cell_type": "markdown",
   "metadata": {
    "id": "WcA4-dFcvlj0"
   },
   "source": [
    "## Plot Single_bac Confusion matrix"
   ]
  },
  {
   "cell_type": "code",
   "execution_count": null,
   "metadata": {
    "colab": {
     "base_uri": "https://localhost:8080/",
     "height": 1000
    },
    "executionInfo": {
     "elapsed": 2856,
     "status": "ok",
     "timestamp": 1715676880978,
     "user": {
      "displayName": "趙伯宣",
      "userId": "09648794267176348713"
     },
     "user_tz": -480
    },
    "id": "AG5RaIKRv4wq",
    "outputId": "75006136-4970-4c59-8d60-7e09e8598296"
   },
   "outputs": [],
   "source": [
    "plt.rcParams['font.size'] = 8\n",
    "plt.rcParams['figure.dpi'] = 300\n",
    "\n",
    "\n",
    "con = np.around(con, 2)\n",
    "disp = ConfusionMatrixDisplay(confusion_matrix=con)\n",
    "disp.plot(cmap ='gist_yarg', colorbar=False)\n",
    "plt.xlabel('Prediction', fontsize=16)\n",
    "plt.ylabel('True', fontsize=16)\n",
    "plt.savefig(unet_folder + 'Single_Conf.png', dpi=300, transparent=True, bbox_inches='tight')"
   ]
  },
  {
   "cell_type": "code",
   "execution_count": null,
   "metadata": {
    "colab": {
     "base_uri": "https://localhost:8080/",
     "height": 1000
    },
    "executionInfo": {
     "elapsed": 1993,
     "status": "ok",
     "timestamp": 1715676885361,
     "user": {
      "displayName": "趙伯宣",
      "userId": "09648794267176348713"
     },
     "user_tz": -480
    },
    "id": "OYw0MCFQTYAX",
    "outputId": "9035f438-b389-4ab1-894c-876ea91a8139"
   },
   "outputs": [],
   "source": [
    "plt.rcParams['font.size'] = 16\n",
    "plt.rcParams['figure.dpi'] = 300\n",
    "\n",
    "singleBac_labels = np.array(['Non-Single', 'Single-Bacterium'])\n",
    "\n",
    "nor_con = np.around(nor_con, 2)\n",
    "nor_disp = ConfusionMatrixDisplay(confusion_matrix=nor_con, display_labels = singleBac_labels)\n",
    "nor_disp.plot(cmap ='gist_yarg', colorbar=False)\n",
    "plt.xticks(fontsize = 10)\n",
    "plt.yticks(rotation=90, ha='right', fontsize = 10, rotation_mode='default', va=\"center\")\n",
    "\n",
    "plt.xlabel('Prediction', fontsize=12)\n",
    "plt.ylabel('True', fontsize=12)\n",
    "\n",
    "\n",
    "plt.savefig(unet_folder + 'Single_Conf_Nor.png', dpi=300, transparent=True, bbox_inches='tight')"
   ]
  }
 ],
 "metadata": {
  "accelerator": "GPU",
  "colab": {
   "collapsed_sections": [
    "4ILrYrMxjB3G",
    "ydha32EiQow9",
    "-lDPiJ25QIVm",
    "Cy9SYxVvkzdu",
    "Ef5WnRtwfH0Z",
    "r2DqKRkYdTe1",
    "dGp4r0Irflx1",
    "yTBPbQRpBrRZ",
    "qsoZ0GnBBtLW",
    "c0WsyuQZOIVD",
    "sty4zes7t1sG"
   ],
   "gpuType": "T4",
   "provenance": [
    {
     "file_id": "1WI8lNKBjNots1fkGuZSD5EhAIgCfIeQb",
     "timestamp": 1716179770316
    },
    {
     "file_id": "1_0-ZlwDJxfZyIUkW-I6thYKswNDJAlhn",
     "timestamp": 1715574364122
    },
    {
     "file_id": "1llV4C9zex1J_yonAniRRg7F2tpzCg-RV",
     "timestamp": 1715484157256
    },
    {
     "file_id": "1Dug9GORarIYahsqHxVXKoc0ZJ9VKmNhD",
     "timestamp": 1715431625895
    },
    {
     "file_id": "1xAZAu-UHwyl0YHOs8ZbPZBqBVu3_CIf9",
     "timestamp": 1715328725099
    },
    {
     "file_id": "1OeM3iKoWX3IfbJI89DK-YVgh3mrl1f8V",
     "timestamp": 1715328656842
    },
    {
     "file_id": "1Ix1oWYEDczPZ0T3EpgZI2-Y5BTBKZrVx",
     "timestamp": 1714540711235
    }
   ]
  },
  "kernelspec": {
   "display_name": "Python 3",
   "name": "python3"
  },
  "language_info": {
   "name": "python"
  }
 },
 "nbformat": 4,
 "nbformat_minor": 0
}
